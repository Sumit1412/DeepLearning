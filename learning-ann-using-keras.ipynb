{
 "cells": [
  {
   "cell_type": "code",
   "execution_count": 1,
   "id": "7e289f88",
   "metadata": {
    "_cell_guid": "b1076dfc-b9ad-4769-8c92-a6c4dae69d19",
    "_uuid": "8f2839f25d086af736a60e9eeb907d3b93b6e0e5",
    "execution": {
     "iopub.execute_input": "2022-10-11T13:31:48.154079Z",
     "iopub.status.busy": "2022-10-11T13:31:48.153061Z",
     "iopub.status.idle": "2022-10-11T13:31:48.175426Z",
     "shell.execute_reply": "2022-10-11T13:31:48.174242Z"
    },
    "papermill": {
     "duration": 0.034454,
     "end_time": "2022-10-11T13:31:48.177963",
     "exception": false,
     "start_time": "2022-10-11T13:31:48.143509",
     "status": "completed"
    },
    "tags": []
   },
   "outputs": [
    {
     "name": "stdout",
     "output_type": "stream",
     "text": [
      "/kaggle/input/credit-card-customer-churn-prediction/Churn_Modelling.csv\n"
     ]
    }
   ],
   "source": [
    "# This Python 3 environment comes with many helpful analytics libraries installed\n",
    "# It is defined by the kaggle/python Docker image: https://github.com/kaggle/docker-python\n",
    "# For example, here's several helpful packages to load\n",
    "\n",
    "import numpy as np # linear algebra\n",
    "import pandas as pd # data processing, CSV file I/O (e.g. pd.read_csv)\n",
    "\n",
    "# Input data files are available in the read-only \"../input/\" directory\n",
    "# For example, running this (by clicking run or pressing Shift+Enter) will list all files under the input directory\n",
    "\n",
    "import os\n",
    "for dirname, _, filenames in os.walk('/kaggle/input'):\n",
    "    for filename in filenames:\n",
    "        print(os.path.join(dirname, filename))\n",
    "\n",
    "# You can write up to 20GB to the current directory (/kaggle/working/) that gets preserved as output when you create a version using \"Save & Run All\" \n",
    "# You can also write temporary files to /kaggle/temp/, but they won't be saved outside of the current session"
   ]
  },
  {
   "cell_type": "code",
   "execution_count": 2,
   "id": "7c82d5e9",
   "metadata": {
    "execution": {
     "iopub.execute_input": "2022-10-11T13:31:48.193103Z",
     "iopub.status.busy": "2022-10-11T13:31:48.192460Z",
     "iopub.status.idle": "2022-10-11T13:31:48.238576Z",
     "shell.execute_reply": "2022-10-11T13:31:48.237541Z"
    },
    "papermill": {
     "duration": 0.05673,
     "end_time": "2022-10-11T13:31:48.241259",
     "exception": false,
     "start_time": "2022-10-11T13:31:48.184529",
     "status": "completed"
    },
    "tags": []
   },
   "outputs": [],
   "source": [
    "df = pd.read_csv('/kaggle/input/credit-card-customer-churn-prediction/Churn_Modelling.csv')"
   ]
  },
  {
   "cell_type": "code",
   "execution_count": 3,
   "id": "a2e84bb7",
   "metadata": {
    "execution": {
     "iopub.execute_input": "2022-10-11T13:31:48.255923Z",
     "iopub.status.busy": "2022-10-11T13:31:48.255443Z",
     "iopub.status.idle": "2022-10-11T13:31:48.295290Z",
     "shell.execute_reply": "2022-10-11T13:31:48.294040Z"
    },
    "papermill": {
     "duration": 0.050344,
     "end_time": "2022-10-11T13:31:48.298087",
     "exception": false,
     "start_time": "2022-10-11T13:31:48.247743",
     "status": "completed"
    },
    "tags": []
   },
   "outputs": [
    {
     "data": {
      "text/html": [
       "<div>\n",
       "<style scoped>\n",
       "    .dataframe tbody tr th:only-of-type {\n",
       "        vertical-align: middle;\n",
       "    }\n",
       "\n",
       "    .dataframe tbody tr th {\n",
       "        vertical-align: top;\n",
       "    }\n",
       "\n",
       "    .dataframe thead th {\n",
       "        text-align: right;\n",
       "    }\n",
       "</style>\n",
       "<table border=\"1\" class=\"dataframe\">\n",
       "  <thead>\n",
       "    <tr style=\"text-align: right;\">\n",
       "      <th></th>\n",
       "      <th>RowNumber</th>\n",
       "      <th>CustomerId</th>\n",
       "      <th>Surname</th>\n",
       "      <th>CreditScore</th>\n",
       "      <th>Geography</th>\n",
       "      <th>Gender</th>\n",
       "      <th>Age</th>\n",
       "      <th>Tenure</th>\n",
       "      <th>Balance</th>\n",
       "      <th>NumOfProducts</th>\n",
       "      <th>HasCrCard</th>\n",
       "      <th>IsActiveMember</th>\n",
       "      <th>EstimatedSalary</th>\n",
       "      <th>Exited</th>\n",
       "    </tr>\n",
       "  </thead>\n",
       "  <tbody>\n",
       "    <tr>\n",
       "      <th>0</th>\n",
       "      <td>1</td>\n",
       "      <td>15634602</td>\n",
       "      <td>Hargrave</td>\n",
       "      <td>619</td>\n",
       "      <td>France</td>\n",
       "      <td>Female</td>\n",
       "      <td>42</td>\n",
       "      <td>2</td>\n",
       "      <td>0.00</td>\n",
       "      <td>1</td>\n",
       "      <td>1</td>\n",
       "      <td>1</td>\n",
       "      <td>101348.88</td>\n",
       "      <td>1</td>\n",
       "    </tr>\n",
       "    <tr>\n",
       "      <th>1</th>\n",
       "      <td>2</td>\n",
       "      <td>15647311</td>\n",
       "      <td>Hill</td>\n",
       "      <td>608</td>\n",
       "      <td>Spain</td>\n",
       "      <td>Female</td>\n",
       "      <td>41</td>\n",
       "      <td>1</td>\n",
       "      <td>83807.86</td>\n",
       "      <td>1</td>\n",
       "      <td>0</td>\n",
       "      <td>1</td>\n",
       "      <td>112542.58</td>\n",
       "      <td>0</td>\n",
       "    </tr>\n",
       "    <tr>\n",
       "      <th>2</th>\n",
       "      <td>3</td>\n",
       "      <td>15619304</td>\n",
       "      <td>Onio</td>\n",
       "      <td>502</td>\n",
       "      <td>France</td>\n",
       "      <td>Female</td>\n",
       "      <td>42</td>\n",
       "      <td>8</td>\n",
       "      <td>159660.80</td>\n",
       "      <td>3</td>\n",
       "      <td>1</td>\n",
       "      <td>0</td>\n",
       "      <td>113931.57</td>\n",
       "      <td>1</td>\n",
       "    </tr>\n",
       "    <tr>\n",
       "      <th>3</th>\n",
       "      <td>4</td>\n",
       "      <td>15701354</td>\n",
       "      <td>Boni</td>\n",
       "      <td>699</td>\n",
       "      <td>France</td>\n",
       "      <td>Female</td>\n",
       "      <td>39</td>\n",
       "      <td>1</td>\n",
       "      <td>0.00</td>\n",
       "      <td>2</td>\n",
       "      <td>0</td>\n",
       "      <td>0</td>\n",
       "      <td>93826.63</td>\n",
       "      <td>0</td>\n",
       "    </tr>\n",
       "    <tr>\n",
       "      <th>4</th>\n",
       "      <td>5</td>\n",
       "      <td>15737888</td>\n",
       "      <td>Mitchell</td>\n",
       "      <td>850</td>\n",
       "      <td>Spain</td>\n",
       "      <td>Female</td>\n",
       "      <td>43</td>\n",
       "      <td>2</td>\n",
       "      <td>125510.82</td>\n",
       "      <td>1</td>\n",
       "      <td>1</td>\n",
       "      <td>1</td>\n",
       "      <td>79084.10</td>\n",
       "      <td>0</td>\n",
       "    </tr>\n",
       "    <tr>\n",
       "      <th>5</th>\n",
       "      <td>6</td>\n",
       "      <td>15574012</td>\n",
       "      <td>Chu</td>\n",
       "      <td>645</td>\n",
       "      <td>Spain</td>\n",
       "      <td>Male</td>\n",
       "      <td>44</td>\n",
       "      <td>8</td>\n",
       "      <td>113755.78</td>\n",
       "      <td>2</td>\n",
       "      <td>1</td>\n",
       "      <td>0</td>\n",
       "      <td>149756.71</td>\n",
       "      <td>1</td>\n",
       "    </tr>\n",
       "    <tr>\n",
       "      <th>6</th>\n",
       "      <td>7</td>\n",
       "      <td>15592531</td>\n",
       "      <td>Bartlett</td>\n",
       "      <td>822</td>\n",
       "      <td>France</td>\n",
       "      <td>Male</td>\n",
       "      <td>50</td>\n",
       "      <td>7</td>\n",
       "      <td>0.00</td>\n",
       "      <td>2</td>\n",
       "      <td>1</td>\n",
       "      <td>1</td>\n",
       "      <td>10062.80</td>\n",
       "      <td>0</td>\n",
       "    </tr>\n",
       "    <tr>\n",
       "      <th>7</th>\n",
       "      <td>8</td>\n",
       "      <td>15656148</td>\n",
       "      <td>Obinna</td>\n",
       "      <td>376</td>\n",
       "      <td>Germany</td>\n",
       "      <td>Female</td>\n",
       "      <td>29</td>\n",
       "      <td>4</td>\n",
       "      <td>115046.74</td>\n",
       "      <td>4</td>\n",
       "      <td>1</td>\n",
       "      <td>0</td>\n",
       "      <td>119346.88</td>\n",
       "      <td>1</td>\n",
       "    </tr>\n",
       "    <tr>\n",
       "      <th>8</th>\n",
       "      <td>9</td>\n",
       "      <td>15792365</td>\n",
       "      <td>He</td>\n",
       "      <td>501</td>\n",
       "      <td>France</td>\n",
       "      <td>Male</td>\n",
       "      <td>44</td>\n",
       "      <td>4</td>\n",
       "      <td>142051.07</td>\n",
       "      <td>2</td>\n",
       "      <td>0</td>\n",
       "      <td>1</td>\n",
       "      <td>74940.50</td>\n",
       "      <td>0</td>\n",
       "    </tr>\n",
       "    <tr>\n",
       "      <th>9</th>\n",
       "      <td>10</td>\n",
       "      <td>15592389</td>\n",
       "      <td>H?</td>\n",
       "      <td>684</td>\n",
       "      <td>France</td>\n",
       "      <td>Male</td>\n",
       "      <td>27</td>\n",
       "      <td>2</td>\n",
       "      <td>134603.88</td>\n",
       "      <td>1</td>\n",
       "      <td>1</td>\n",
       "      <td>1</td>\n",
       "      <td>71725.73</td>\n",
       "      <td>0</td>\n",
       "    </tr>\n",
       "  </tbody>\n",
       "</table>\n",
       "</div>"
      ],
      "text/plain": [
       "   RowNumber  CustomerId   Surname  CreditScore Geography  Gender  Age  \\\n",
       "0          1    15634602  Hargrave          619    France  Female   42   \n",
       "1          2    15647311      Hill          608     Spain  Female   41   \n",
       "2          3    15619304      Onio          502    France  Female   42   \n",
       "3          4    15701354      Boni          699    France  Female   39   \n",
       "4          5    15737888  Mitchell          850     Spain  Female   43   \n",
       "5          6    15574012       Chu          645     Spain    Male   44   \n",
       "6          7    15592531  Bartlett          822    France    Male   50   \n",
       "7          8    15656148    Obinna          376   Germany  Female   29   \n",
       "8          9    15792365        He          501    France    Male   44   \n",
       "9         10    15592389        H?          684    France    Male   27   \n",
       "\n",
       "   Tenure    Balance  NumOfProducts  HasCrCard  IsActiveMember  \\\n",
       "0       2       0.00              1          1               1   \n",
       "1       1   83807.86              1          0               1   \n",
       "2       8  159660.80              3          1               0   \n",
       "3       1       0.00              2          0               0   \n",
       "4       2  125510.82              1          1               1   \n",
       "5       8  113755.78              2          1               0   \n",
       "6       7       0.00              2          1               1   \n",
       "7       4  115046.74              4          1               0   \n",
       "8       4  142051.07              2          0               1   \n",
       "9       2  134603.88              1          1               1   \n",
       "\n",
       "   EstimatedSalary  Exited  \n",
       "0        101348.88       1  \n",
       "1        112542.58       0  \n",
       "2        113931.57       1  \n",
       "3         93826.63       0  \n",
       "4         79084.10       0  \n",
       "5        149756.71       1  \n",
       "6         10062.80       0  \n",
       "7        119346.88       1  \n",
       "8         74940.50       0  \n",
       "9         71725.73       0  "
      ]
     },
     "execution_count": 3,
     "metadata": {},
     "output_type": "execute_result"
    }
   ],
   "source": [
    "df.head(10)\n",
    "# print(df.shape)"
   ]
  },
  {
   "cell_type": "code",
   "execution_count": 4,
   "id": "edbe72e4",
   "metadata": {
    "execution": {
     "iopub.execute_input": "2022-10-11T13:31:48.313804Z",
     "iopub.status.busy": "2022-10-11T13:31:48.313411Z",
     "iopub.status.idle": "2022-10-11T13:31:48.344112Z",
     "shell.execute_reply": "2022-10-11T13:31:48.342215Z"
    },
    "papermill": {
     "duration": 0.041567,
     "end_time": "2022-10-11T13:31:48.346730",
     "exception": false,
     "start_time": "2022-10-11T13:31:48.305163",
     "status": "completed"
    },
    "tags": []
   },
   "outputs": [
    {
     "name": "stdout",
     "output_type": "stream",
     "text": [
      "<class 'pandas.core.frame.DataFrame'>\n",
      "RangeIndex: 10000 entries, 0 to 9999\n",
      "Data columns (total 14 columns):\n",
      " #   Column           Non-Null Count  Dtype  \n",
      "---  ------           --------------  -----  \n",
      " 0   RowNumber        10000 non-null  int64  \n",
      " 1   CustomerId       10000 non-null  int64  \n",
      " 2   Surname          10000 non-null  object \n",
      " 3   CreditScore      10000 non-null  int64  \n",
      " 4   Geography        10000 non-null  object \n",
      " 5   Gender           10000 non-null  object \n",
      " 6   Age              10000 non-null  int64  \n",
      " 7   Tenure           10000 non-null  int64  \n",
      " 8   Balance          10000 non-null  float64\n",
      " 9   NumOfProducts    10000 non-null  int64  \n",
      " 10  HasCrCard        10000 non-null  int64  \n",
      " 11  IsActiveMember   10000 non-null  int64  \n",
      " 12  EstimatedSalary  10000 non-null  float64\n",
      " 13  Exited           10000 non-null  int64  \n",
      "dtypes: float64(2), int64(9), object(3)\n",
      "memory usage: 1.1+ MB\n"
     ]
    }
   ],
   "source": [
    "df.info()"
   ]
  },
  {
   "cell_type": "code",
   "execution_count": 5,
   "id": "4684edde",
   "metadata": {
    "execution": {
     "iopub.execute_input": "2022-10-11T13:31:48.362554Z",
     "iopub.status.busy": "2022-10-11T13:31:48.361881Z",
     "iopub.status.idle": "2022-10-11T13:31:48.380645Z",
     "shell.execute_reply": "2022-10-11T13:31:48.379508Z"
    },
    "papermill": {
     "duration": 0.029224,
     "end_time": "2022-10-11T13:31:48.382897",
     "exception": false,
     "start_time": "2022-10-11T13:31:48.353673",
     "status": "completed"
    },
    "tags": []
   },
   "outputs": [
    {
     "data": {
      "text/plain": [
       "0"
      ]
     },
     "execution_count": 5,
     "metadata": {},
     "output_type": "execute_result"
    }
   ],
   "source": [
    "df.duplicated().sum()"
   ]
  },
  {
   "cell_type": "code",
   "execution_count": 6,
   "id": "91359905",
   "metadata": {
    "execution": {
     "iopub.execute_input": "2022-10-11T13:31:48.399325Z",
     "iopub.status.busy": "2022-10-11T13:31:48.398087Z",
     "iopub.status.idle": "2022-10-11T13:31:48.407726Z",
     "shell.execute_reply": "2022-10-11T13:31:48.406681Z"
    },
    "papermill": {
     "duration": 0.020365,
     "end_time": "2022-10-11T13:31:48.410052",
     "exception": false,
     "start_time": "2022-10-11T13:31:48.389687",
     "status": "completed"
    },
    "tags": []
   },
   "outputs": [
    {
     "data": {
      "text/plain": [
       "0    7963\n",
       "1    2037\n",
       "Name: Exited, dtype: int64"
      ]
     },
     "execution_count": 6,
     "metadata": {},
     "output_type": "execute_result"
    }
   ],
   "source": [
    "df['Exited'].value_counts()"
   ]
  },
  {
   "cell_type": "code",
   "execution_count": 7,
   "id": "914db834",
   "metadata": {
    "execution": {
     "iopub.execute_input": "2022-10-11T13:31:48.426595Z",
     "iopub.status.busy": "2022-10-11T13:31:48.426182Z",
     "iopub.status.idle": "2022-10-11T13:31:48.435597Z",
     "shell.execute_reply": "2022-10-11T13:31:48.434540Z"
    },
    "papermill": {
     "duration": 0.020133,
     "end_time": "2022-10-11T13:31:48.438021",
     "exception": false,
     "start_time": "2022-10-11T13:31:48.417888",
     "status": "completed"
    },
    "tags": []
   },
   "outputs": [
    {
     "data": {
      "text/plain": [
       "France     5014\n",
       "Germany    2509\n",
       "Spain      2477\n",
       "Name: Geography, dtype: int64"
      ]
     },
     "execution_count": 7,
     "metadata": {},
     "output_type": "execute_result"
    }
   ],
   "source": [
    "df['Geography'].value_counts()"
   ]
  },
  {
   "cell_type": "code",
   "execution_count": 8,
   "id": "df159b6f",
   "metadata": {
    "execution": {
     "iopub.execute_input": "2022-10-11T13:31:48.454280Z",
     "iopub.status.busy": "2022-10-11T13:31:48.453826Z",
     "iopub.status.idle": "2022-10-11T13:31:48.463412Z",
     "shell.execute_reply": "2022-10-11T13:31:48.462299Z"
    },
    "papermill": {
     "duration": 0.020365,
     "end_time": "2022-10-11T13:31:48.465541",
     "exception": false,
     "start_time": "2022-10-11T13:31:48.445176",
     "status": "completed"
    },
    "tags": []
   },
   "outputs": [
    {
     "data": {
      "text/plain": [
       "Male      5457\n",
       "Female    4543\n",
       "Name: Gender, dtype: int64"
      ]
     },
     "execution_count": 8,
     "metadata": {},
     "output_type": "execute_result"
    }
   ],
   "source": [
    "df['Gender'].value_counts()"
   ]
  },
  {
   "cell_type": "code",
   "execution_count": 9,
   "id": "1f767113",
   "metadata": {
    "execution": {
     "iopub.execute_input": "2022-10-11T13:31:48.481569Z",
     "iopub.status.busy": "2022-10-11T13:31:48.481171Z",
     "iopub.status.idle": "2022-10-11T13:31:48.489696Z",
     "shell.execute_reply": "2022-10-11T13:31:48.488469Z"
    },
    "papermill": {
     "duration": 0.019182,
     "end_time": "2022-10-11T13:31:48.491869",
     "exception": false,
     "start_time": "2022-10-11T13:31:48.472687",
     "status": "completed"
    },
    "tags": []
   },
   "outputs": [],
   "source": [
    "df.drop(columns = ['RowNumber','CustomerId','Surname'],inplace = True)"
   ]
  },
  {
   "cell_type": "code",
   "execution_count": 10,
   "id": "004107b8",
   "metadata": {
    "execution": {
     "iopub.execute_input": "2022-10-11T13:31:48.508662Z",
     "iopub.status.busy": "2022-10-11T13:31:48.508278Z",
     "iopub.status.idle": "2022-10-11T13:31:48.520555Z",
     "shell.execute_reply": "2022-10-11T13:31:48.519366Z"
    },
    "papermill": {
     "duration": 0.023875,
     "end_time": "2022-10-11T13:31:48.523356",
     "exception": false,
     "start_time": "2022-10-11T13:31:48.499481",
     "status": "completed"
    },
    "tags": []
   },
   "outputs": [],
   "source": [
    "df = pd.get_dummies(df,columns=['Geography','Gender'],drop_first = True)"
   ]
  },
  {
   "cell_type": "code",
   "execution_count": 11,
   "id": "6dcdfff7",
   "metadata": {
    "execution": {
     "iopub.execute_input": "2022-10-11T13:31:48.541280Z",
     "iopub.status.busy": "2022-10-11T13:31:48.540742Z",
     "iopub.status.idle": "2022-10-11T13:31:49.776477Z",
     "shell.execute_reply": "2022-10-11T13:31:49.775280Z"
    },
    "papermill": {
     "duration": 1.248419,
     "end_time": "2022-10-11T13:31:49.779247",
     "exception": false,
     "start_time": "2022-10-11T13:31:48.530828",
     "status": "completed"
    },
    "tags": []
   },
   "outputs": [],
   "source": [
    "X = df.drop(columns = ['Exited'])\n",
    "y = df['Exited']\n",
    "from sklearn.model_selection import train_test_split\n",
    "X_train,X_test,y_train,y_test = train_test_split(X,y,test_size=0.2,random_state=1)"
   ]
  },
  {
   "cell_type": "code",
   "execution_count": 12,
   "id": "67ee5a3b",
   "metadata": {
    "execution": {
     "iopub.execute_input": "2022-10-11T13:31:49.795408Z",
     "iopub.status.busy": "2022-10-11T13:31:49.794972Z",
     "iopub.status.idle": "2022-10-11T13:31:49.811754Z",
     "shell.execute_reply": "2022-10-11T13:31:49.810747Z"
    },
    "papermill": {
     "duration": 0.027974,
     "end_time": "2022-10-11T13:31:49.814500",
     "exception": false,
     "start_time": "2022-10-11T13:31:49.786526",
     "status": "completed"
    },
    "tags": []
   },
   "outputs": [],
   "source": [
    "from sklearn.preprocessing import StandardScaler\n",
    "scaler = StandardScaler()\n",
    "\n",
    "X_train_scaled = scaler.fit_transform(X_train)\n",
    "X_test_scaled = scaler.fit_transform(X_test)"
   ]
  },
  {
   "cell_type": "code",
   "execution_count": 13,
   "id": "d6919545",
   "metadata": {
    "execution": {
     "iopub.execute_input": "2022-10-11T13:31:49.831006Z",
     "iopub.status.busy": "2022-10-11T13:31:49.830629Z",
     "iopub.status.idle": "2022-10-11T13:31:57.271045Z",
     "shell.execute_reply": "2022-10-11T13:31:57.269692Z"
    },
    "papermill": {
     "duration": 7.452067,
     "end_time": "2022-10-11T13:31:57.273883",
     "exception": false,
     "start_time": "2022-10-11T13:31:49.821816",
     "status": "completed"
    },
    "tags": []
   },
   "outputs": [],
   "source": [
    "import tensorflow\n",
    "from tensorflow import keras\n",
    "from tensorflow.keras import Sequential\n",
    "from tensorflow.keras.layers import Dense"
   ]
  },
  {
   "cell_type": "code",
   "execution_count": 14,
   "id": "45adba36",
   "metadata": {
    "execution": {
     "iopub.execute_input": "2022-10-11T13:31:57.291585Z",
     "iopub.status.busy": "2022-10-11T13:31:57.290071Z",
     "iopub.status.idle": "2022-10-11T13:31:57.424935Z",
     "shell.execute_reply": "2022-10-11T13:31:57.423542Z"
    },
    "papermill": {
     "duration": 0.146213,
     "end_time": "2022-10-11T13:31:57.427665",
     "exception": false,
     "start_time": "2022-10-11T13:31:57.281452",
     "status": "completed"
    },
    "tags": []
   },
   "outputs": [
    {
     "name": "stderr",
     "output_type": "stream",
     "text": [
      "2022-10-11 13:31:57.335826: I tensorflow/core/common_runtime/process_util.cc:146] Creating new thread pool with default inter op setting: 2. Tune using inter_op_parallelism_threads for best performance.\n"
     ]
    }
   ],
   "source": [
    "model = Sequential()\n",
    "\n",
    "model.add(Dense(3,activation = 'relu',input_dim=11))\n",
    "model.add(Dense(1,activation = 'sigmoid'))"
   ]
  },
  {
   "cell_type": "code",
   "execution_count": 15,
   "id": "3f0d0302",
   "metadata": {
    "execution": {
     "iopub.execute_input": "2022-10-11T13:31:57.444347Z",
     "iopub.status.busy": "2022-10-11T13:31:57.443928Z",
     "iopub.status.idle": "2022-10-11T13:31:57.450734Z",
     "shell.execute_reply": "2022-10-11T13:31:57.449566Z"
    },
    "papermill": {
     "duration": 0.01803,
     "end_time": "2022-10-11T13:31:57.453115",
     "exception": false,
     "start_time": "2022-10-11T13:31:57.435085",
     "status": "completed"
    },
    "tags": []
   },
   "outputs": [
    {
     "name": "stdout",
     "output_type": "stream",
     "text": [
      "Model: \"sequential\"\n",
      "_________________________________________________________________\n",
      "Layer (type)                 Output Shape              Param #   \n",
      "=================================================================\n",
      "dense (Dense)                (None, 3)                 36        \n",
      "_________________________________________________________________\n",
      "dense_1 (Dense)              (None, 1)                 4         \n",
      "=================================================================\n",
      "Total params: 40\n",
      "Trainable params: 40\n",
      "Non-trainable params: 0\n",
      "_________________________________________________________________\n"
     ]
    }
   ],
   "source": [
    "model.summary()"
   ]
  },
  {
   "cell_type": "code",
   "execution_count": 16,
   "id": "7f863b73",
   "metadata": {
    "execution": {
     "iopub.execute_input": "2022-10-11T13:31:57.469604Z",
     "iopub.status.busy": "2022-10-11T13:31:57.469165Z",
     "iopub.status.idle": "2022-10-11T13:31:57.483469Z",
     "shell.execute_reply": "2022-10-11T13:31:57.482546Z"
    },
    "papermill": {
     "duration": 0.025078,
     "end_time": "2022-10-11T13:31:57.485718",
     "exception": false,
     "start_time": "2022-10-11T13:31:57.460640",
     "status": "completed"
    },
    "tags": []
   },
   "outputs": [],
   "source": [
    "#Model Compilation phase\n",
    "model.compile(loss = 'binary_crossentropy',optimizer = 'Adam',metrics = ['accuracy'])"
   ]
  },
  {
   "cell_type": "code",
   "execution_count": 17,
   "id": "c82f69a3",
   "metadata": {
    "execution": {
     "iopub.execute_input": "2022-10-11T13:31:57.502962Z",
     "iopub.status.busy": "2022-10-11T13:31:57.501879Z",
     "iopub.status.idle": "2022-10-11T13:32:17.667295Z",
     "shell.execute_reply": "2022-10-11T13:32:17.666027Z"
    },
    "papermill": {
     "duration": 20.177075,
     "end_time": "2022-10-11T13:32:17.670125",
     "exception": false,
     "start_time": "2022-10-11T13:31:57.493050",
     "status": "completed"
    },
    "tags": []
   },
   "outputs": [
    {
     "name": "stderr",
     "output_type": "stream",
     "text": [
      "2022-10-11 13:31:57.592852: I tensorflow/compiler/mlir/mlir_graph_optimization_pass.cc:185] None of the MLIR Optimization Passes are enabled (registered 2)\n"
     ]
    },
    {
     "name": "stdout",
     "output_type": "stream",
     "text": [
      "Epoch 1/50\n",
      "200/200 [==============================] - 1s 3ms/step - loss: 0.8886 - accuracy: 0.4794 - val_loss: 0.7235 - val_accuracy: 0.5731\n",
      "Epoch 2/50\n",
      "200/200 [==============================] - 0s 2ms/step - loss: 0.6251 - accuracy: 0.7008 - val_loss: 0.5673 - val_accuracy: 0.7650\n",
      "Epoch 3/50\n",
      "200/200 [==============================] - 0s 2ms/step - loss: 0.5326 - accuracy: 0.7970 - val_loss: 0.5105 - val_accuracy: 0.8031\n",
      "Epoch 4/50\n",
      "200/200 [==============================] - 0s 2ms/step - loss: 0.4935 - accuracy: 0.8100 - val_loss: 0.4791 - val_accuracy: 0.8131\n",
      "Epoch 5/50\n",
      "200/200 [==============================] - 0s 2ms/step - loss: 0.4691 - accuracy: 0.8116 - val_loss: 0.4576 - val_accuracy: 0.8100\n",
      "Epoch 6/50\n",
      "200/200 [==============================] - 0s 2ms/step - loss: 0.4512 - accuracy: 0.8148 - val_loss: 0.4424 - val_accuracy: 0.8144\n",
      "Epoch 7/50\n",
      "200/200 [==============================] - 0s 2ms/step - loss: 0.4386 - accuracy: 0.8164 - val_loss: 0.4310 - val_accuracy: 0.8138\n",
      "Epoch 8/50\n",
      "200/200 [==============================] - 0s 2ms/step - loss: 0.4290 - accuracy: 0.8189 - val_loss: 0.4224 - val_accuracy: 0.8181\n",
      "Epoch 9/50\n",
      "200/200 [==============================] - 0s 2ms/step - loss: 0.4218 - accuracy: 0.8208 - val_loss: 0.4152 - val_accuracy: 0.8200\n",
      "Epoch 10/50\n",
      "200/200 [==============================] - 0s 2ms/step - loss: 0.4163 - accuracy: 0.8227 - val_loss: 0.4093 - val_accuracy: 0.8275\n",
      "Epoch 11/50\n",
      "200/200 [==============================] - 0s 2ms/step - loss: 0.4113 - accuracy: 0.8261 - val_loss: 0.4032 - val_accuracy: 0.8319\n",
      "Epoch 12/50\n",
      "200/200 [==============================] - 0s 2ms/step - loss: 0.4061 - accuracy: 0.8294 - val_loss: 0.3971 - val_accuracy: 0.8325\n",
      "Epoch 13/50\n",
      "200/200 [==============================] - 0s 2ms/step - loss: 0.4005 - accuracy: 0.8314 - val_loss: 0.3908 - val_accuracy: 0.8344\n",
      "Epoch 14/50\n",
      "200/200 [==============================] - 0s 2ms/step - loss: 0.3948 - accuracy: 0.8344 - val_loss: 0.3845 - val_accuracy: 0.8369\n",
      "Epoch 15/50\n",
      "200/200 [==============================] - 0s 2ms/step - loss: 0.3892 - accuracy: 0.8378 - val_loss: 0.3786 - val_accuracy: 0.8406\n",
      "Epoch 16/50\n",
      "200/200 [==============================] - 0s 2ms/step - loss: 0.3839 - accuracy: 0.8427 - val_loss: 0.3731 - val_accuracy: 0.8431\n",
      "Epoch 17/50\n",
      "200/200 [==============================] - 0s 2ms/step - loss: 0.3788 - accuracy: 0.8450 - val_loss: 0.3685 - val_accuracy: 0.8444\n",
      "Epoch 18/50\n",
      "200/200 [==============================] - 0s 2ms/step - loss: 0.3743 - accuracy: 0.8470 - val_loss: 0.3648 - val_accuracy: 0.8425\n",
      "Epoch 19/50\n",
      "200/200 [==============================] - 0s 2ms/step - loss: 0.3709 - accuracy: 0.8486 - val_loss: 0.3618 - val_accuracy: 0.8431\n",
      "Epoch 20/50\n",
      "200/200 [==============================] - 0s 2ms/step - loss: 0.3679 - accuracy: 0.8503 - val_loss: 0.3595 - val_accuracy: 0.8406\n",
      "Epoch 21/50\n",
      "200/200 [==============================] - 0s 2ms/step - loss: 0.3654 - accuracy: 0.8534 - val_loss: 0.3570 - val_accuracy: 0.8450\n",
      "Epoch 22/50\n",
      "200/200 [==============================] - 0s 2ms/step - loss: 0.3633 - accuracy: 0.8545 - val_loss: 0.3556 - val_accuracy: 0.8444\n",
      "Epoch 23/50\n",
      "200/200 [==============================] - 0s 2ms/step - loss: 0.3612 - accuracy: 0.8555 - val_loss: 0.3543 - val_accuracy: 0.8438\n",
      "Epoch 24/50\n",
      "200/200 [==============================] - 0s 2ms/step - loss: 0.3595 - accuracy: 0.8567 - val_loss: 0.3526 - val_accuracy: 0.8481\n",
      "Epoch 25/50\n",
      "200/200 [==============================] - 0s 2ms/step - loss: 0.3579 - accuracy: 0.8572 - val_loss: 0.3521 - val_accuracy: 0.8469\n",
      "Epoch 26/50\n",
      "200/200 [==============================] - 0s 2ms/step - loss: 0.3566 - accuracy: 0.8578 - val_loss: 0.3507 - val_accuracy: 0.8462\n",
      "Epoch 27/50\n",
      "200/200 [==============================] - 0s 2ms/step - loss: 0.3556 - accuracy: 0.8586 - val_loss: 0.3495 - val_accuracy: 0.8487\n",
      "Epoch 28/50\n",
      "200/200 [==============================] - 0s 2ms/step - loss: 0.3545 - accuracy: 0.8580 - val_loss: 0.3487 - val_accuracy: 0.8475\n",
      "Epoch 29/50\n",
      "200/200 [==============================] - 0s 2ms/step - loss: 0.3534 - accuracy: 0.8602 - val_loss: 0.3473 - val_accuracy: 0.8500\n",
      "Epoch 30/50\n",
      "200/200 [==============================] - 0s 2ms/step - loss: 0.3527 - accuracy: 0.8595 - val_loss: 0.3468 - val_accuracy: 0.8512\n",
      "Epoch 31/50\n",
      "200/200 [==============================] - 0s 2ms/step - loss: 0.3521 - accuracy: 0.8605 - val_loss: 0.3458 - val_accuracy: 0.8512\n",
      "Epoch 32/50\n",
      "200/200 [==============================] - 0s 2ms/step - loss: 0.3512 - accuracy: 0.8600 - val_loss: 0.3455 - val_accuracy: 0.8506\n",
      "Epoch 33/50\n",
      "200/200 [==============================] - 0s 2ms/step - loss: 0.3508 - accuracy: 0.8595 - val_loss: 0.3450 - val_accuracy: 0.8525\n",
      "Epoch 34/50\n",
      "200/200 [==============================] - 0s 2ms/step - loss: 0.3502 - accuracy: 0.8606 - val_loss: 0.3444 - val_accuracy: 0.8525\n",
      "Epoch 35/50\n",
      "200/200 [==============================] - 0s 2ms/step - loss: 0.3499 - accuracy: 0.8595 - val_loss: 0.3442 - val_accuracy: 0.8500\n",
      "Epoch 36/50\n",
      "200/200 [==============================] - 0s 2ms/step - loss: 0.3495 - accuracy: 0.8594 - val_loss: 0.3439 - val_accuracy: 0.8506\n",
      "Epoch 37/50\n",
      "200/200 [==============================] - 0s 2ms/step - loss: 0.3492 - accuracy: 0.8595 - val_loss: 0.3438 - val_accuracy: 0.8506\n",
      "Epoch 38/50\n",
      "200/200 [==============================] - 0s 2ms/step - loss: 0.3489 - accuracy: 0.8608 - val_loss: 0.3433 - val_accuracy: 0.8487\n",
      "Epoch 39/50\n",
      "200/200 [==============================] - 0s 2ms/step - loss: 0.3487 - accuracy: 0.8602 - val_loss: 0.3431 - val_accuracy: 0.8506\n",
      "Epoch 40/50\n",
      "200/200 [==============================] - 0s 2ms/step - loss: 0.3483 - accuracy: 0.8597 - val_loss: 0.3432 - val_accuracy: 0.8519\n",
      "Epoch 41/50\n",
      "200/200 [==============================] - 0s 2ms/step - loss: 0.3483 - accuracy: 0.8584 - val_loss: 0.3424 - val_accuracy: 0.8550\n",
      "Epoch 42/50\n",
      "200/200 [==============================] - 0s 2ms/step - loss: 0.3481 - accuracy: 0.8598 - val_loss: 0.3427 - val_accuracy: 0.8500\n",
      "Epoch 43/50\n",
      "200/200 [==============================] - 0s 2ms/step - loss: 0.3477 - accuracy: 0.8616 - val_loss: 0.3418 - val_accuracy: 0.8537\n",
      "Epoch 44/50\n",
      "200/200 [==============================] - 0s 2ms/step - loss: 0.3477 - accuracy: 0.8603 - val_loss: 0.3421 - val_accuracy: 0.8519\n",
      "Epoch 45/50\n",
      "200/200 [==============================] - 0s 2ms/step - loss: 0.3474 - accuracy: 0.8608 - val_loss: 0.3423 - val_accuracy: 0.8525\n",
      "Epoch 46/50\n",
      "200/200 [==============================] - 0s 2ms/step - loss: 0.3473 - accuracy: 0.8602 - val_loss: 0.3424 - val_accuracy: 0.8512\n",
      "Epoch 47/50\n",
      "200/200 [==============================] - 0s 2ms/step - loss: 0.3472 - accuracy: 0.8616 - val_loss: 0.3416 - val_accuracy: 0.8544\n",
      "Epoch 48/50\n",
      "200/200 [==============================] - 0s 2ms/step - loss: 0.3470 - accuracy: 0.8602 - val_loss: 0.3414 - val_accuracy: 0.8537\n",
      "Epoch 49/50\n",
      "200/200 [==============================] - 0s 2ms/step - loss: 0.3467 - accuracy: 0.8606 - val_loss: 0.3411 - val_accuracy: 0.8562\n",
      "Epoch 50/50\n",
      "200/200 [==============================] - 0s 2ms/step - loss: 0.3465 - accuracy: 0.8600 - val_loss: 0.3413 - val_accuracy: 0.8512\n"
     ]
    }
   ],
   "source": [
    "history = model.fit(X_train_scaled,y_train,epochs = 50,validation_split = 0.2)"
   ]
  },
  {
   "cell_type": "code",
   "execution_count": 18,
   "id": "46ff7902",
   "metadata": {
    "execution": {
     "iopub.execute_input": "2022-10-11T13:32:17.734084Z",
     "iopub.status.busy": "2022-10-11T13:32:17.733689Z",
     "iopub.status.idle": "2022-10-11T13:32:17.743211Z",
     "shell.execute_reply": "2022-10-11T13:32:17.742245Z"
    },
    "papermill": {
     "duration": 0.043834,
     "end_time": "2022-10-11T13:32:17.745409",
     "exception": false,
     "start_time": "2022-10-11T13:32:17.701575",
     "status": "completed"
    },
    "tags": []
   },
   "outputs": [
    {
     "data": {
      "text/plain": [
       "[array([[ 0.01343662, -0.0131263 ,  0.04628975],\n",
       "        [-0.11423957, -0.21295324, -1.2949798 ],\n",
       "        [-0.04635091, -0.05239826, -0.06139937],\n",
       "        [ 0.373517  , -0.268828  , -0.07453501],\n",
       "        [ 1.4564445 , -1.3325841 ,  0.14594847],\n",
       "        [-0.04955299, -0.0521868 , -0.02826988],\n",
       "        [-0.45707142, -0.5858551 , -0.41865197],\n",
       "        [-0.01422667,  0.02204464, -0.00735448],\n",
       "        [-0.10539365,  0.24595873, -0.0627701 ],\n",
       "        [ 0.07458849, -0.04987992, -0.08778163],\n",
       "        [-0.1213087 , -0.06797757,  0.09476203]], dtype=float32),\n",
       " array([-0.47923508,  0.26783112,  1.8029464 ], dtype=float32)]"
      ]
     },
     "execution_count": 18,
     "metadata": {},
     "output_type": "execute_result"
    }
   ],
   "source": [
    "model.layers[0].get_weights()"
   ]
  },
  {
   "cell_type": "code",
   "execution_count": 19,
   "id": "201b6004",
   "metadata": {
    "execution": {
     "iopub.execute_input": "2022-10-11T13:32:17.808716Z",
     "iopub.status.busy": "2022-10-11T13:32:17.807834Z",
     "iopub.status.idle": "2022-10-11T13:32:17.816603Z",
     "shell.execute_reply": "2022-10-11T13:32:17.815391Z"
    },
    "papermill": {
     "duration": 0.043225,
     "end_time": "2022-10-11T13:32:17.819359",
     "exception": false,
     "start_time": "2022-10-11T13:32:17.776134",
     "status": "completed"
    },
    "tags": []
   },
   "outputs": [
    {
     "data": {
      "text/plain": [
       "[array([[ 1.7505711],\n",
       "        [ 1.5983105],\n",
       "        [-1.2044713]], dtype=float32),\n",
       " array([-1.4740754], dtype=float32)]"
      ]
     },
     "execution_count": 19,
     "metadata": {},
     "output_type": "execute_result"
    }
   ],
   "source": [
    "model.layers[1].get_weights()"
   ]
  },
  {
   "cell_type": "code",
   "execution_count": 20,
   "id": "a1b044c0",
   "metadata": {
    "execution": {
     "iopub.execute_input": "2022-10-11T13:32:17.881878Z",
     "iopub.status.busy": "2022-10-11T13:32:17.880912Z",
     "iopub.status.idle": "2022-10-11T13:32:18.061027Z",
     "shell.execute_reply": "2022-10-11T13:32:18.060021Z"
    },
    "papermill": {
     "duration": 0.214124,
     "end_time": "2022-10-11T13:32:18.063925",
     "exception": false,
     "start_time": "2022-10-11T13:32:17.849801",
     "status": "completed"
    },
    "tags": []
   },
   "outputs": [],
   "source": [
    "y_log = model.predict(X_test_scaled)"
   ]
  },
  {
   "cell_type": "code",
   "execution_count": 21,
   "id": "008b959e",
   "metadata": {
    "execution": {
     "iopub.execute_input": "2022-10-11T13:32:18.126028Z",
     "iopub.status.busy": "2022-10-11T13:32:18.125292Z",
     "iopub.status.idle": "2022-10-11T13:32:18.129804Z",
     "shell.execute_reply": "2022-10-11T13:32:18.128927Z"
    },
    "papermill": {
     "duration": 0.038262,
     "end_time": "2022-10-11T13:32:18.132257",
     "exception": false,
     "start_time": "2022-10-11T13:32:18.093995",
     "status": "completed"
    },
    "tags": []
   },
   "outputs": [],
   "source": [
    "y_pred = np.where(y_log>0.5,1,0)"
   ]
  },
  {
   "cell_type": "code",
   "execution_count": 22,
   "id": "20853c6b",
   "metadata": {
    "execution": {
     "iopub.execute_input": "2022-10-11T13:32:18.193101Z",
     "iopub.status.busy": "2022-10-11T13:32:18.192419Z",
     "iopub.status.idle": "2022-10-11T13:32:18.199736Z",
     "shell.execute_reply": "2022-10-11T13:32:18.198677Z"
    },
    "papermill": {
     "duration": 0.040399,
     "end_time": "2022-10-11T13:32:18.202046",
     "exception": false,
     "start_time": "2022-10-11T13:32:18.161647",
     "status": "completed"
    },
    "tags": []
   },
   "outputs": [
    {
     "data": {
      "text/plain": [
       "0.861"
      ]
     },
     "execution_count": 22,
     "metadata": {},
     "output_type": "execute_result"
    }
   ],
   "source": [
    "from sklearn.metrics import accuracy_score\n",
    "accuracy_score(y_test,y_pred)"
   ]
  },
  {
   "cell_type": "code",
   "execution_count": 23,
   "id": "2db73a9b",
   "metadata": {
    "execution": {
     "iopub.execute_input": "2022-10-11T13:32:18.264707Z",
     "iopub.status.busy": "2022-10-11T13:32:18.263995Z",
     "iopub.status.idle": "2022-10-11T13:32:18.268706Z",
     "shell.execute_reply": "2022-10-11T13:32:18.267633Z"
    },
    "papermill": {
     "duration": 0.039402,
     "end_time": "2022-10-11T13:32:18.271213",
     "exception": false,
     "start_time": "2022-10-11T13:32:18.231811",
     "status": "completed"
    },
    "tags": []
   },
   "outputs": [],
   "source": [
    "import matplotlib.pyplot as plt"
   ]
  },
  {
   "cell_type": "code",
   "execution_count": 24,
   "id": "134ca47d",
   "metadata": {
    "execution": {
     "iopub.execute_input": "2022-10-11T13:32:18.333127Z",
     "iopub.status.busy": "2022-10-11T13:32:18.332548Z",
     "iopub.status.idle": "2022-10-11T13:32:18.583022Z",
     "shell.execute_reply": "2022-10-11T13:32:18.581883Z"
    },
    "papermill": {
     "duration": 0.284518,
     "end_time": "2022-10-11T13:32:18.585557",
     "exception": false,
     "start_time": "2022-10-11T13:32:18.301039",
     "status": "completed"
    },
    "tags": []
   },
   "outputs": [
    {
     "data": {
      "text/plain": [
       "[<matplotlib.lines.Line2D at 0x7f5809786590>]"
      ]
     },
     "execution_count": 24,
     "metadata": {},
     "output_type": "execute_result"
    },
    {
     "data": {
      "image/png": "[encoded data removed]",
      "text/plain": [
       "<Figure size 432x288 with 1 Axes>"
      ]
     },
     "metadata": {
      "needs_background": "light"
     },
     "output_type": "display_data"
    }
   ],
   "source": [
    "plt.plot(history.history['loss'])\n",
    "plt.plot(history.history['val_loss'])"
   ]
  },
  {
   "cell_type": "code",
   "execution_count": 25,
   "id": "183a9271",
   "metadata": {
    "execution": {
     "iopub.execute_input": "2022-10-11T13:32:18.648076Z",
     "iopub.status.busy": "2022-10-11T13:32:18.647628Z",
     "iopub.status.idle": "2022-10-11T13:32:18.872277Z",
     "shell.execute_reply": "2022-10-11T13:32:18.871161Z"
    },
    "papermill": {
     "duration": 0.25972,
     "end_time": "2022-10-11T13:32:18.875255",
     "exception": false,
     "start_time": "2022-10-11T13:32:18.615535",
     "status": "completed"
    },
    "tags": []
   },
   "outputs": [
    {
     "data": {
      "text/plain": [
       "[<matplotlib.lines.Line2D at 0x7f5808e36050>]"
      ]
     },
     "execution_count": 25,
     "metadata": {},
     "output_type": "execute_result"
    },
    {
     "data": {
      "image/png": "[encoded data removed]",
      "text/plain": [
       "<Figure size 432x288 with 1 Axes>"
      ]
     },
     "metadata": {
      "needs_background": "light"
     },
     "output_type": "display_data"
    }
   ],
   "source": [
    "plt.plot(history.history['accuracy'])\n",
    "plt.plot(history.history['val_accuracy'])"
   ]
  }
 ],
 "metadata": {
  "kernelspec": {
   "display_name": "Python 3",
   "language": "python",
   "name": "python3"
  },
  "language_info": {
   "codemirror_mode": {
    "name": "ipython",
    "version": 3
   },
   "file_extension": ".py",
   "mimetype": "text/x-python",
   "name": "python",
   "nbconvert_exporter": "python",
   "pygments_lexer": "ipython3",
   "version": "3.7.12"
  },
  "papermill": {
   "default_parameters": {},
   "duration": 43.214687,
   "end_time": "2022-10-11T13:32:21.727344",
   "environment_variables": {},
   "exception": null,
   "input_path": "__notebook__.ipynb",
   "output_path": "__notebook__.ipynb",
   "parameters": {},
   "start_time": "2022-10-11T13:31:38.512657",
   "version": "2.3.4"
  }
 },
 "nbformat": 4,
 "nbformat_minor": 5
}

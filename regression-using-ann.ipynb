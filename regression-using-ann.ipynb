{
 "cells": [
  {
   "cell_type": "code",
   "execution_count": 1,
   "id": "cb7f5167",
   "metadata": {
    "_cell_guid": "b1076dfc-b9ad-4769-8c92-a6c4dae69d19",
    "_uuid": "8f2839f25d086af736a60e9eeb907d3b93b6e0e5",
    "execution": {
     "iopub.execute_input": "2022-10-11T18:58:20.920752Z",
     "iopub.status.busy": "2022-10-11T18:58:20.920188Z",
     "iopub.status.idle": "2022-10-11T18:58:20.944009Z",
     "shell.execute_reply": "2022-10-11T18:58:20.943031Z"
    },
    "papermill": {
     "duration": 0.03201,
     "end_time": "2022-10-11T18:58:20.945871",
     "exception": false,
     "start_time": "2022-10-11T18:58:20.913861",
     "status": "completed"
    },
    "tags": []
   },
   "outputs": [
    {
     "name": "stdout",
     "output_type": "stream",
     "text": [
      "/kaggle/input/graduate-admissions/Admission_Predict.csv\n",
      "/kaggle/input/graduate-admissions/Admission_Predict_Ver1.1.csv\n"
     ]
    }
   ],
   "source": [
    "# This Python 3 environment comes with many helpful analytics libraries installed\n",
    "# It is defined by the kaggle/python Docker image: https://github.com/kaggle/docker-python\n",
    "# For example, here's several helpful packages to load\n",
    "\n",
    "import numpy as np # linear algebra\n",
    "import pandas as pd # data processing, CSV file I/O (e.g. pd.read_csv)\n",
    "\n",
    "# Input data files are available in the read-only \"../input/\" directory\n",
    "# For example, running this (by clicking run or pressing Shift+Enter) will list all files under the input directory\n",
    "\n",
    "import os\n",
    "for dirname, _, filenames in os.walk('/kaggle/input'):\n",
    "    for filename in filenames:\n",
    "        print(os.path.join(dirname, filename))\n",
    "\n",
    "# You can write up to 20GB to the current directory (/kaggle/working/) that gets preserved as output when you create a version using \"Save & Run All\" \n",
    "# You can also write temporary files to /kaggle/temp/, but they won't be saved outside of the current session"
   ]
  },
  {
   "cell_type": "code",
   "execution_count": 2,
   "id": "5df08752",
   "metadata": {
    "execution": {
     "iopub.execute_input": "2022-10-11T18:58:20.955807Z",
     "iopub.status.busy": "2022-10-11T18:58:20.955439Z",
     "iopub.status.idle": "2022-10-11T18:58:20.994868Z",
     "shell.execute_reply": "2022-10-11T18:58:20.993408Z"
    },
    "papermill": {
     "duration": 0.047219,
     "end_time": "2022-10-11T18:58:20.997326",
     "exception": false,
     "start_time": "2022-10-11T18:58:20.950107",
     "status": "completed"
    },
    "tags": []
   },
   "outputs": [],
   "source": [
    "df = pd.read_csv('/kaggle/input/graduate-admissions/Admission_Predict_Ver1.1.csv')"
   ]
  },
  {
   "cell_type": "code",
   "execution_count": 3,
   "id": "76696b61",
   "metadata": {
    "execution": {
     "iopub.execute_input": "2022-10-11T18:58:21.007800Z",
     "iopub.status.busy": "2022-10-11T18:58:21.006926Z",
     "iopub.status.idle": "2022-10-11T18:58:21.031359Z",
     "shell.execute_reply": "2022-10-11T18:58:21.030467Z"
    },
    "papermill": {
     "duration": 0.032136,
     "end_time": "2022-10-11T18:58:21.033592",
     "exception": false,
     "start_time": "2022-10-11T18:58:21.001456",
     "status": "completed"
    },
    "tags": []
   },
   "outputs": [
    {
     "data": {
      "text/html": [
       "<div>\n",
       "<style scoped>\n",
       "    .dataframe tbody tr th:only-of-type {\n",
       "        vertical-align: middle;\n",
       "    }\n",
       "\n",
       "    .dataframe tbody tr th {\n",
       "        vertical-align: top;\n",
       "    }\n",
       "\n",
       "    .dataframe thead th {\n",
       "        text-align: right;\n",
       "    }\n",
       "</style>\n",
       "<table border=\"1\" class=\"dataframe\">\n",
       "  <thead>\n",
       "    <tr style=\"text-align: right;\">\n",
       "      <th></th>\n",
       "      <th>Serial No.</th>\n",
       "      <th>GRE Score</th>\n",
       "      <th>TOEFL Score</th>\n",
       "      <th>University Rating</th>\n",
       "      <th>SOP</th>\n",
       "      <th>LOR</th>\n",
       "      <th>CGPA</th>\n",
       "      <th>Research</th>\n",
       "      <th>Chance of Admit</th>\n",
       "    </tr>\n",
       "  </thead>\n",
       "  <tbody>\n",
       "    <tr>\n",
       "      <th>0</th>\n",
       "      <td>1</td>\n",
       "      <td>337</td>\n",
       "      <td>118</td>\n",
       "      <td>4</td>\n",
       "      <td>4.5</td>\n",
       "      <td>4.5</td>\n",
       "      <td>9.65</td>\n",
       "      <td>1</td>\n",
       "      <td>0.92</td>\n",
       "    </tr>\n",
       "    <tr>\n",
       "      <th>1</th>\n",
       "      <td>2</td>\n",
       "      <td>324</td>\n",
       "      <td>107</td>\n",
       "      <td>4</td>\n",
       "      <td>4.0</td>\n",
       "      <td>4.5</td>\n",
       "      <td>8.87</td>\n",
       "      <td>1</td>\n",
       "      <td>0.76</td>\n",
       "    </tr>\n",
       "    <tr>\n",
       "      <th>2</th>\n",
       "      <td>3</td>\n",
       "      <td>316</td>\n",
       "      <td>104</td>\n",
       "      <td>3</td>\n",
       "      <td>3.0</td>\n",
       "      <td>3.5</td>\n",
       "      <td>8.00</td>\n",
       "      <td>1</td>\n",
       "      <td>0.72</td>\n",
       "    </tr>\n",
       "    <tr>\n",
       "      <th>3</th>\n",
       "      <td>4</td>\n",
       "      <td>322</td>\n",
       "      <td>110</td>\n",
       "      <td>3</td>\n",
       "      <td>3.5</td>\n",
       "      <td>2.5</td>\n",
       "      <td>8.67</td>\n",
       "      <td>1</td>\n",
       "      <td>0.80</td>\n",
       "    </tr>\n",
       "    <tr>\n",
       "      <th>4</th>\n",
       "      <td>5</td>\n",
       "      <td>314</td>\n",
       "      <td>103</td>\n",
       "      <td>2</td>\n",
       "      <td>2.0</td>\n",
       "      <td>3.0</td>\n",
       "      <td>8.21</td>\n",
       "      <td>0</td>\n",
       "      <td>0.65</td>\n",
       "    </tr>\n",
       "  </tbody>\n",
       "</table>\n",
       "</div>"
      ],
      "text/plain": [
       "   Serial No.  GRE Score  TOEFL Score  University Rating  SOP  LOR   CGPA  \\\n",
       "0           1        337          118                  4  4.5   4.5  9.65   \n",
       "1           2        324          107                  4  4.0   4.5  8.87   \n",
       "2           3        316          104                  3  3.0   3.5  8.00   \n",
       "3           4        322          110                  3  3.5   2.5  8.67   \n",
       "4           5        314          103                  2  2.0   3.0  8.21   \n",
       "\n",
       "   Research  Chance of Admit   \n",
       "0         1              0.92  \n",
       "1         1              0.76  \n",
       "2         1              0.72  \n",
       "3         1              0.80  \n",
       "4         0              0.65  "
      ]
     },
     "execution_count": 3,
     "metadata": {},
     "output_type": "execute_result"
    }
   ],
   "source": [
    "df.head(5)"
   ]
  },
  {
   "cell_type": "code",
   "execution_count": 4,
   "id": "cba5e7e9",
   "metadata": {
    "execution": {
     "iopub.execute_input": "2022-10-11T18:58:21.044814Z",
     "iopub.status.busy": "2022-10-11T18:58:21.043307Z",
     "iopub.status.idle": "2022-10-11T18:58:21.069492Z",
     "shell.execute_reply": "2022-10-11T18:58:21.067764Z"
    },
    "papermill": {
     "duration": 0.035541,
     "end_time": "2022-10-11T18:58:21.073449",
     "exception": false,
     "start_time": "2022-10-11T18:58:21.037908",
     "status": "completed"
    },
    "tags": []
   },
   "outputs": [
    {
     "name": "stdout",
     "output_type": "stream",
     "text": [
      "<class 'pandas.core.frame.DataFrame'>\n",
      "RangeIndex: 500 entries, 0 to 499\n",
      "Data columns (total 9 columns):\n",
      " #   Column             Non-Null Count  Dtype  \n",
      "---  ------             --------------  -----  \n",
      " 0   Serial No.         500 non-null    int64  \n",
      " 1   GRE Score          500 non-null    int64  \n",
      " 2   TOEFL Score        500 non-null    int64  \n",
      " 3   University Rating  500 non-null    int64  \n",
      " 4   SOP                500 non-null    float64\n",
      " 5   LOR                500 non-null    float64\n",
      " 6   CGPA               500 non-null    float64\n",
      " 7   Research           500 non-null    int64  \n",
      " 8   Chance of Admit    500 non-null    float64\n",
      "dtypes: float64(4), int64(5)\n",
      "memory usage: 35.3 KB\n"
     ]
    }
   ],
   "source": [
    "df.info()"
   ]
  },
  {
   "cell_type": "code",
   "execution_count": 5,
   "id": "de76f410",
   "metadata": {
    "execution": {
     "iopub.execute_input": "2022-10-11T18:58:21.084248Z",
     "iopub.status.busy": "2022-10-11T18:58:21.083801Z",
     "iopub.status.idle": "2022-10-11T18:58:21.091084Z",
     "shell.execute_reply": "2022-10-11T18:58:21.089683Z"
    },
    "papermill": {
     "duration": 0.015153,
     "end_time": "2022-10-11T18:58:21.093455",
     "exception": false,
     "start_time": "2022-10-11T18:58:21.078302",
     "status": "completed"
    },
    "tags": []
   },
   "outputs": [],
   "source": [
    "df.drop(columns = ['Serial No.'],inplace = True)"
   ]
  },
  {
   "cell_type": "code",
   "execution_count": 6,
   "id": "e2fe8f6a",
   "metadata": {
    "execution": {
     "iopub.execute_input": "2022-10-11T18:58:21.103062Z",
     "iopub.status.busy": "2022-10-11T18:58:21.102726Z",
     "iopub.status.idle": "2022-10-11T18:58:21.108545Z",
     "shell.execute_reply": "2022-10-11T18:58:21.107433Z"
    },
    "papermill": {
     "duration": 0.012818,
     "end_time": "2022-10-11T18:58:21.110537",
     "exception": false,
     "start_time": "2022-10-11T18:58:21.097719",
     "status": "completed"
    },
    "tags": []
   },
   "outputs": [],
   "source": [
    "X=df.iloc[:, 0:-1]\n",
    "y =df.iloc[:,-1]"
   ]
  },
  {
   "cell_type": "code",
   "execution_count": 7,
   "id": "15466d17",
   "metadata": {
    "execution": {
     "iopub.execute_input": "2022-10-11T18:58:21.120435Z",
     "iopub.status.busy": "2022-10-11T18:58:21.120077Z",
     "iopub.status.idle": "2022-10-11T18:58:22.418149Z",
     "shell.execute_reply": "2022-10-11T18:58:22.416591Z"
    },
    "papermill": {
     "duration": 1.305934,
     "end_time": "2022-10-11T18:58:22.420857",
     "exception": false,
     "start_time": "2022-10-11T18:58:21.114923",
     "status": "completed"
    },
    "tags": []
   },
   "outputs": [],
   "source": [
    "from sklearn.model_selection import train_test_split\n",
    "X_train,X_test,y_train,y_test = train_test_split(X,y,test_size = 0.2,random_state = 1)"
   ]
  },
  {
   "cell_type": "code",
   "execution_count": 8,
   "id": "95589783",
   "metadata": {
    "execution": {
     "iopub.execute_input": "2022-10-11T18:58:22.432725Z",
     "iopub.status.busy": "2022-10-11T18:58:22.432090Z",
     "iopub.status.idle": "2022-10-11T18:58:22.445555Z",
     "shell.execute_reply": "2022-10-11T18:58:22.443464Z"
    },
    "papermill": {
     "duration": 0.0221,
     "end_time": "2022-10-11T18:58:22.448709",
     "exception": false,
     "start_time": "2022-10-11T18:58:22.426609",
     "status": "completed"
    },
    "tags": []
   },
   "outputs": [],
   "source": [
    "from sklearn.preprocessing import MinMaxScaler\n",
    "scaler = MinMaxScaler()\n",
    "X_train_scaled = scaler.fit_transform(X_train)\n",
    "X_test_scaled = scaler.transform(X_test)"
   ]
  },
  {
   "cell_type": "code",
   "execution_count": 9,
   "id": "75726ead",
   "metadata": {
    "execution": {
     "iopub.execute_input": "2022-10-11T18:58:22.459128Z",
     "iopub.status.busy": "2022-10-11T18:58:22.458764Z",
     "iopub.status.idle": "2022-10-11T18:58:29.786525Z",
     "shell.execute_reply": "2022-10-11T18:58:29.784698Z"
    },
    "papermill": {
     "duration": 7.336332,
     "end_time": "2022-10-11T18:58:29.789462",
     "exception": false,
     "start_time": "2022-10-11T18:58:22.453130",
     "status": "completed"
    },
    "tags": []
   },
   "outputs": [],
   "source": [
    "import tensorflow\n",
    "from tensorflow import keras\n",
    "from keras import Sequential\n",
    "from keras.layers import Dense\n"
   ]
  },
  {
   "cell_type": "code",
   "execution_count": 10,
   "id": "c3c2e1e6",
   "metadata": {
    "execution": {
     "iopub.execute_input": "2022-10-11T18:58:29.800092Z",
     "iopub.status.busy": "2022-10-11T18:58:29.799477Z",
     "iopub.status.idle": "2022-10-11T18:58:29.936983Z",
     "shell.execute_reply": "2022-10-11T18:58:29.935129Z"
    },
    "papermill": {
     "duration": 0.146062,
     "end_time": "2022-10-11T18:58:29.940052",
     "exception": false,
     "start_time": "2022-10-11T18:58:29.793990",
     "status": "completed"
    },
    "tags": []
   },
   "outputs": [
    {
     "name": "stderr",
     "output_type": "stream",
     "text": [
      "2022-10-11 18:58:29.839600: I tensorflow/core/common_runtime/process_util.cc:146] Creating new thread pool with default inter op setting: 2. Tune using inter_op_parallelism_threads for best performance.\n"
     ]
    }
   ],
   "source": [
    "model = Sequential()\n",
    "model.add(Dense(7,activation = 'relu',input_dim = 7))\n",
    "model.add(Dense(7,activation = 'relu'))\n",
    "model.add(Dense(1,activation = 'linear'))"
   ]
  },
  {
   "cell_type": "code",
   "execution_count": 11,
   "id": "42fa2709",
   "metadata": {
    "execution": {
     "iopub.execute_input": "2022-10-11T18:58:29.951284Z",
     "iopub.status.busy": "2022-10-11T18:58:29.950958Z",
     "iopub.status.idle": "2022-10-11T18:58:29.958032Z",
     "shell.execute_reply": "2022-10-11T18:58:29.956455Z"
    },
    "papermill": {
     "duration": 0.015634,
     "end_time": "2022-10-11T18:58:29.960320",
     "exception": false,
     "start_time": "2022-10-11T18:58:29.944686",
     "status": "completed"
    },
    "tags": []
   },
   "outputs": [
    {
     "name": "stdout",
     "output_type": "stream",
     "text": [
      "Model: \"sequential\"\n",
      "_________________________________________________________________\n",
      "Layer (type)                 Output Shape              Param #   \n",
      "=================================================================\n",
      "dense (Dense)                (None, 7)                 56        \n",
      "_________________________________________________________________\n",
      "dense_1 (Dense)              (None, 7)                 56        \n",
      "_________________________________________________________________\n",
      "dense_2 (Dense)              (None, 1)                 8         \n",
      "=================================================================\n",
      "Total params: 120\n",
      "Trainable params: 120\n",
      "Non-trainable params: 0\n",
      "_________________________________________________________________\n"
     ]
    }
   ],
   "source": [
    "model.summary()"
   ]
  },
  {
   "cell_type": "code",
   "execution_count": 12,
   "id": "e7cd36dc",
   "metadata": {
    "execution": {
     "iopub.execute_input": "2022-10-11T18:58:29.972583Z",
     "iopub.status.busy": "2022-10-11T18:58:29.972067Z",
     "iopub.status.idle": "2022-10-11T18:58:29.984597Z",
     "shell.execute_reply": "2022-10-11T18:58:29.983556Z"
    },
    "papermill": {
     "duration": 0.020801,
     "end_time": "2022-10-11T18:58:29.986992",
     "exception": false,
     "start_time": "2022-10-11T18:58:29.966191",
     "status": "completed"
    },
    "tags": []
   },
   "outputs": [],
   "source": [
    "model.compile(loss = 'mean_squared_error',optimizer = 'Adam')"
   ]
  },
  {
   "cell_type": "code",
   "execution_count": 13,
   "id": "292e8c99",
   "metadata": {
    "execution": {
     "iopub.execute_input": "2022-10-11T18:58:29.997678Z",
     "iopub.status.busy": "2022-10-11T18:58:29.997308Z",
     "iopub.status.idle": "2022-10-11T18:58:37.338600Z",
     "shell.execute_reply": "2022-10-11T18:58:37.336962Z"
    },
    "papermill": {
     "duration": 7.349879,
     "end_time": "2022-10-11T18:58:37.341218",
     "exception": false,
     "start_time": "2022-10-11T18:58:29.991339",
     "status": "completed"
    },
    "tags": []
   },
   "outputs": [
    {
     "name": "stderr",
     "output_type": "stream",
     "text": [
      "2022-10-11 18:58:30.088214: I tensorflow/compiler/mlir/mlir_graph_optimization_pass.cc:185] None of the MLIR Optimization Passes are enabled (registered 2)\n"
     ]
    },
    {
     "name": "stdout",
     "output_type": "stream",
     "text": [
      "Epoch 1/120\n",
      "10/10 [==============================] - 1s 18ms/step - loss: 0.1227 - val_loss: 0.0979\n",
      "Epoch 2/120\n",
      "10/10 [==============================] - 0s 6ms/step - loss: 0.0791 - val_loss: 0.0650\n",
      "Epoch 3/120\n",
      "10/10 [==============================] - 0s 5ms/step - loss: 0.0606 - val_loss: 0.0533\n",
      "Epoch 4/120\n",
      "10/10 [==============================] - 0s 6ms/step - loss: 0.0542 - val_loss: 0.0489\n",
      "Epoch 5/120\n",
      "10/10 [==============================] - 0s 5ms/step - loss: 0.0498 - val_loss: 0.0445\n",
      "Epoch 6/120\n",
      "10/10 [==============================] - 0s 6ms/step - loss: 0.0447 - val_loss: 0.0405\n",
      "Epoch 7/120\n",
      "10/10 [==============================] - 0s 5ms/step - loss: 0.0404 - val_loss: 0.0368\n",
      "Epoch 8/120\n",
      "10/10 [==============================] - 0s 6ms/step - loss: 0.0362 - val_loss: 0.0332\n",
      "Epoch 9/120\n",
      "10/10 [==============================] - 0s 6ms/step - loss: 0.0322 - val_loss: 0.0296\n",
      "Epoch 10/120\n",
      "10/10 [==============================] - 0s 6ms/step - loss: 0.0286 - val_loss: 0.0263\n",
      "Epoch 11/120\n",
      "10/10 [==============================] - 0s 6ms/step - loss: 0.0251 - val_loss: 0.0233\n",
      "Epoch 12/120\n",
      "10/10 [==============================] - 0s 5ms/step - loss: 0.0221 - val_loss: 0.0208\n",
      "Epoch 13/120\n",
      "10/10 [==============================] - 0s 6ms/step - loss: 0.0194 - val_loss: 0.0184\n",
      "Epoch 14/120\n",
      "10/10 [==============================] - 0s 5ms/step - loss: 0.0171 - val_loss: 0.0164\n",
      "Epoch 15/120\n",
      "10/10 [==============================] - 0s 5ms/step - loss: 0.0151 - val_loss: 0.0148\n",
      "Epoch 16/120\n",
      "10/10 [==============================] - 0s 6ms/step - loss: 0.0134 - val_loss: 0.0132\n",
      "Epoch 17/120\n",
      "10/10 [==============================] - 0s 6ms/step - loss: 0.0120 - val_loss: 0.0120\n",
      "Epoch 18/120\n",
      "10/10 [==============================] - 0s 6ms/step - loss: 0.0108 - val_loss: 0.0110\n",
      "Epoch 19/120\n",
      "10/10 [==============================] - 0s 5ms/step - loss: 0.0099 - val_loss: 0.0101\n",
      "Epoch 20/120\n",
      "10/10 [==============================] - 0s 5ms/step - loss: 0.0091 - val_loss: 0.0094\n",
      "Epoch 21/120\n",
      "10/10 [==============================] - 0s 5ms/step - loss: 0.0085 - val_loss: 0.0087\n",
      "Epoch 22/120\n",
      "10/10 [==============================] - 0s 7ms/step - loss: 0.0080 - val_loss: 0.0083\n",
      "Epoch 23/120\n",
      "10/10 [==============================] - 0s 6ms/step - loss: 0.0076 - val_loss: 0.0079\n",
      "Epoch 24/120\n",
      "10/10 [==============================] - 0s 6ms/step - loss: 0.0072 - val_loss: 0.0075\n",
      "Epoch 25/120\n",
      "10/10 [==============================] - 0s 6ms/step - loss: 0.0069 - val_loss: 0.0072\n",
      "Epoch 26/120\n",
      "10/10 [==============================] - 0s 5ms/step - loss: 0.0067 - val_loss: 0.0069\n",
      "Epoch 27/120\n",
      "10/10 [==============================] - 0s 6ms/step - loss: 0.0065 - val_loss: 0.0068\n",
      "Epoch 28/120\n",
      "10/10 [==============================] - 0s 6ms/step - loss: 0.0063 - val_loss: 0.0065\n",
      "Epoch 29/120\n",
      "10/10 [==============================] - 0s 6ms/step - loss: 0.0062 - val_loss: 0.0062\n",
      "Epoch 30/120\n",
      "10/10 [==============================] - 0s 5ms/step - loss: 0.0061 - val_loss: 0.0061\n",
      "Epoch 31/120\n",
      "10/10 [==============================] - 0s 5ms/step - loss: 0.0059 - val_loss: 0.0060\n",
      "Epoch 32/120\n",
      "10/10 [==============================] - 0s 5ms/step - loss: 0.0058 - val_loss: 0.0058\n",
      "Epoch 33/120\n",
      "10/10 [==============================] - 0s 5ms/step - loss: 0.0057 - val_loss: 0.0056\n",
      "Epoch 34/120\n",
      "10/10 [==============================] - 0s 6ms/step - loss: 0.0056 - val_loss: 0.0056\n",
      "Epoch 35/120\n",
      "10/10 [==============================] - 0s 5ms/step - loss: 0.0056 - val_loss: 0.0054\n",
      "Epoch 36/120\n",
      "10/10 [==============================] - 0s 5ms/step - loss: 0.0055 - val_loss: 0.0054\n",
      "Epoch 37/120\n",
      "10/10 [==============================] - 0s 5ms/step - loss: 0.0054 - val_loss: 0.0052\n",
      "Epoch 38/120\n",
      "10/10 [==============================] - 0s 6ms/step - loss: 0.0053 - val_loss: 0.0052\n",
      "Epoch 39/120\n",
      "10/10 [==============================] - 0s 5ms/step - loss: 0.0052 - val_loss: 0.0052\n",
      "Epoch 40/120\n",
      "10/10 [==============================] - 0s 5ms/step - loss: 0.0052 - val_loss: 0.0050\n",
      "Epoch 41/120\n",
      "10/10 [==============================] - 0s 5ms/step - loss: 0.0051 - val_loss: 0.0050\n",
      "Epoch 42/120\n",
      "10/10 [==============================] - 0s 5ms/step - loss: 0.0051 - val_loss: 0.0049\n",
      "Epoch 43/120\n",
      "10/10 [==============================] - 0s 5ms/step - loss: 0.0050 - val_loss: 0.0050\n",
      "Epoch 44/120\n",
      "10/10 [==============================] - 0s 5ms/step - loss: 0.0050 - val_loss: 0.0048\n",
      "Epoch 45/120\n",
      "10/10 [==============================] - 0s 5ms/step - loss: 0.0050 - val_loss: 0.0048\n",
      "Epoch 46/120\n",
      "10/10 [==============================] - 0s 5ms/step - loss: 0.0049 - val_loss: 0.0047\n",
      "Epoch 47/120\n",
      "10/10 [==============================] - 0s 5ms/step - loss: 0.0048 - val_loss: 0.0047\n",
      "Epoch 48/120\n",
      "10/10 [==============================] - 0s 5ms/step - loss: 0.0048 - val_loss: 0.0047\n",
      "Epoch 49/120\n",
      "10/10 [==============================] - 0s 5ms/step - loss: 0.0048 - val_loss: 0.0046\n",
      "Epoch 50/120\n",
      "10/10 [==============================] - 0s 5ms/step - loss: 0.0047 - val_loss: 0.0046\n",
      "Epoch 51/120\n",
      "10/10 [==============================] - 0s 6ms/step - loss: 0.0047 - val_loss: 0.0046\n",
      "Epoch 52/120\n",
      "10/10 [==============================] - 0s 5ms/step - loss: 0.0047 - val_loss: 0.0045\n",
      "Epoch 53/120\n",
      "10/10 [==============================] - 0s 5ms/step - loss: 0.0047 - val_loss: 0.0045\n",
      "Epoch 54/120\n",
      "10/10 [==============================] - 0s 6ms/step - loss: 0.0046 - val_loss: 0.0045\n",
      "Epoch 55/120\n",
      "10/10 [==============================] - 0s 5ms/step - loss: 0.0046 - val_loss: 0.0045\n",
      "Epoch 56/120\n",
      "10/10 [==============================] - 0s 6ms/step - loss: 0.0046 - val_loss: 0.0044\n",
      "Epoch 57/120\n",
      "10/10 [==============================] - 0s 6ms/step - loss: 0.0045 - val_loss: 0.0044\n",
      "Epoch 58/120\n",
      "10/10 [==============================] - 0s 6ms/step - loss: 0.0045 - val_loss: 0.0043\n",
      "Epoch 59/120\n",
      "10/10 [==============================] - 0s 6ms/step - loss: 0.0045 - val_loss: 0.0044\n",
      "Epoch 60/120\n",
      "10/10 [==============================] - 0s 5ms/step - loss: 0.0045 - val_loss: 0.0043\n",
      "Epoch 61/120\n",
      "10/10 [==============================] - 0s 5ms/step - loss: 0.0045 - val_loss: 0.0043\n",
      "Epoch 62/120\n",
      "10/10 [==============================] - 0s 6ms/step - loss: 0.0044 - val_loss: 0.0043\n",
      "Epoch 63/120\n",
      "10/10 [==============================] - 0s 6ms/step - loss: 0.0044 - val_loss: 0.0043\n",
      "Epoch 64/120\n",
      "10/10 [==============================] - 0s 5ms/step - loss: 0.0044 - val_loss: 0.0042\n",
      "Epoch 65/120\n",
      "10/10 [==============================] - 0s 5ms/step - loss: 0.0044 - val_loss: 0.0042\n",
      "Epoch 66/120\n",
      "10/10 [==============================] - 0s 5ms/step - loss: 0.0044 - val_loss: 0.0042\n",
      "Epoch 67/120\n",
      "10/10 [==============================] - 0s 6ms/step - loss: 0.0043 - val_loss: 0.0042\n",
      "Epoch 68/120\n",
      "10/10 [==============================] - 0s 6ms/step - loss: 0.0043 - val_loss: 0.0042\n",
      "Epoch 69/120\n",
      "10/10 [==============================] - 0s 6ms/step - loss: 0.0043 - val_loss: 0.0041\n",
      "Epoch 70/120\n",
      "10/10 [==============================] - 0s 5ms/step - loss: 0.0043 - val_loss: 0.0042\n",
      "Epoch 71/120\n",
      "10/10 [==============================] - 0s 5ms/step - loss: 0.0043 - val_loss: 0.0041\n",
      "Epoch 72/120\n",
      "10/10 [==============================] - 0s 8ms/step - loss: 0.0043 - val_loss: 0.0041\n",
      "Epoch 73/120\n",
      "10/10 [==============================] - 0s 6ms/step - loss: 0.0043 - val_loss: 0.0042\n",
      "Epoch 74/120\n",
      "10/10 [==============================] - 0s 5ms/step - loss: 0.0042 - val_loss: 0.0041\n",
      "Epoch 75/120\n",
      "10/10 [==============================] - 0s 5ms/step - loss: 0.0042 - val_loss: 0.0041\n",
      "Epoch 76/120\n",
      "10/10 [==============================] - 0s 4ms/step - loss: 0.0042 - val_loss: 0.0041\n",
      "Epoch 77/120\n",
      "10/10 [==============================] - 0s 5ms/step - loss: 0.0042 - val_loss: 0.0040\n",
      "Epoch 78/120\n",
      "10/10 [==============================] - 0s 6ms/step - loss: 0.0042 - val_loss: 0.0041\n",
      "Epoch 79/120\n",
      "10/10 [==============================] - 0s 6ms/step - loss: 0.0041 - val_loss: 0.0040\n",
      "Epoch 80/120\n",
      "10/10 [==============================] - 0s 6ms/step - loss: 0.0041 - val_loss: 0.0040\n",
      "Epoch 81/120\n",
      "10/10 [==============================] - 0s 5ms/step - loss: 0.0042 - val_loss: 0.0041\n",
      "Epoch 82/120\n",
      "10/10 [==============================] - 0s 5ms/step - loss: 0.0041 - val_loss: 0.0040\n",
      "Epoch 83/120\n",
      "10/10 [==============================] - 0s 5ms/step - loss: 0.0041 - val_loss: 0.0042\n",
      "Epoch 84/120\n",
      "10/10 [==============================] - 0s 6ms/step - loss: 0.0041 - val_loss: 0.0040\n",
      "Epoch 85/120\n",
      "10/10 [==============================] - 0s 6ms/step - loss: 0.0041 - val_loss: 0.0040\n",
      "Epoch 86/120\n",
      "10/10 [==============================] - 0s 6ms/step - loss: 0.0041 - val_loss: 0.0041\n",
      "Epoch 87/120\n",
      "10/10 [==============================] - 0s 5ms/step - loss: 0.0040 - val_loss: 0.0040\n",
      "Epoch 88/120\n",
      "10/10 [==============================] - 0s 6ms/step - loss: 0.0040 - val_loss: 0.0040\n",
      "Epoch 89/120\n",
      "10/10 [==============================] - 0s 5ms/step - loss: 0.0040 - val_loss: 0.0041\n",
      "Epoch 90/120\n",
      "10/10 [==============================] - 0s 6ms/step - loss: 0.0040 - val_loss: 0.0040\n",
      "Epoch 91/120\n",
      "10/10 [==============================] - 0s 6ms/step - loss: 0.0040 - val_loss: 0.0040\n",
      "Epoch 92/120\n",
      "10/10 [==============================] - 0s 6ms/step - loss: 0.0040 - val_loss: 0.0040\n",
      "Epoch 93/120\n",
      "10/10 [==============================] - 0s 6ms/step - loss: 0.0040 - val_loss: 0.0040\n",
      "Epoch 94/120\n",
      "10/10 [==============================] - 0s 7ms/step - loss: 0.0040 - val_loss: 0.0040\n",
      "Epoch 95/120\n",
      "10/10 [==============================] - 0s 6ms/step - loss: 0.0040 - val_loss: 0.0039\n",
      "Epoch 96/120\n",
      "10/10 [==============================] - 0s 5ms/step - loss: 0.0040 - val_loss: 0.0040\n",
      "Epoch 97/120\n",
      "10/10 [==============================] - 0s 6ms/step - loss: 0.0039 - val_loss: 0.0039\n",
      "Epoch 98/120\n",
      "10/10 [==============================] - 0s 6ms/step - loss: 0.0039 - val_loss: 0.0039\n",
      "Epoch 99/120\n",
      "10/10 [==============================] - 0s 6ms/step - loss: 0.0039 - val_loss: 0.0039\n",
      "Epoch 100/120\n",
      "10/10 [==============================] - 0s 5ms/step - loss: 0.0039 - val_loss: 0.0039\n",
      "Epoch 101/120\n",
      "10/10 [==============================] - 0s 5ms/step - loss: 0.0039 - val_loss: 0.0039\n",
      "Epoch 102/120\n",
      "10/10 [==============================] - 0s 6ms/step - loss: 0.0039 - val_loss: 0.0039\n",
      "Epoch 103/120\n",
      "10/10 [==============================] - 0s 5ms/step - loss: 0.0039 - val_loss: 0.0039\n",
      "Epoch 104/120\n",
      "10/10 [==============================] - 0s 6ms/step - loss: 0.0039 - val_loss: 0.0039\n",
      "Epoch 105/120\n",
      "10/10 [==============================] - 0s 6ms/step - loss: 0.0039 - val_loss: 0.0040\n",
      "Epoch 106/120\n",
      "10/10 [==============================] - 0s 6ms/step - loss: 0.0039 - val_loss: 0.0039\n",
      "Epoch 107/120\n",
      "10/10 [==============================] - 0s 5ms/step - loss: 0.0039 - val_loss: 0.0039\n",
      "Epoch 108/120\n",
      "10/10 [==============================] - 0s 6ms/step - loss: 0.0038 - val_loss: 0.0039\n",
      "Epoch 109/120\n",
      "10/10 [==============================] - 0s 6ms/step - loss: 0.0038 - val_loss: 0.0039\n",
      "Epoch 110/120\n",
      "10/10 [==============================] - 0s 6ms/step - loss: 0.0038 - val_loss: 0.0039\n",
      "Epoch 111/120\n",
      "10/10 [==============================] - 0s 5ms/step - loss: 0.0038 - val_loss: 0.0039\n",
      "Epoch 112/120\n",
      "10/10 [==============================] - 0s 5ms/step - loss: 0.0039 - val_loss: 0.0038\n",
      "Epoch 113/120\n",
      "10/10 [==============================] - 0s 5ms/step - loss: 0.0038 - val_loss: 0.0038\n",
      "Epoch 114/120\n",
      "10/10 [==============================] - 0s 6ms/step - loss: 0.0039 - val_loss: 0.0038\n",
      "Epoch 115/120\n",
      "10/10 [==============================] - 0s 5ms/step - loss: 0.0038 - val_loss: 0.0039\n",
      "Epoch 116/120\n",
      "10/10 [==============================] - 0s 5ms/step - loss: 0.0038 - val_loss: 0.0039\n",
      "Epoch 117/120\n",
      "10/10 [==============================] - 0s 6ms/step - loss: 0.0038 - val_loss: 0.0038\n",
      "Epoch 118/120\n",
      "10/10 [==============================] - 0s 6ms/step - loss: 0.0038 - val_loss: 0.0039\n",
      "Epoch 119/120\n",
      "10/10 [==============================] - 0s 5ms/step - loss: 0.0038 - val_loss: 0.0038\n",
      "Epoch 120/120\n",
      "10/10 [==============================] - 0s 6ms/step - loss: 0.0038 - val_loss: 0.0039\n"
     ]
    }
   ],
   "source": [
    "history  = model.fit(X_train_scaled,y_train,epochs = 120,validation_split=0.2)"
   ]
  },
  {
   "cell_type": "code",
   "execution_count": 14,
   "id": "b3e065ba",
   "metadata": {
    "execution": {
     "iopub.execute_input": "2022-10-11T18:58:37.378016Z",
     "iopub.status.busy": "2022-10-11T18:58:37.377680Z",
     "iopub.status.idle": "2022-10-11T18:58:37.509499Z",
     "shell.execute_reply": "2022-10-11T18:58:37.507613Z"
    },
    "papermill": {
     "duration": 0.153439,
     "end_time": "2022-10-11T18:58:37.512570",
     "exception": false,
     "start_time": "2022-10-11T18:58:37.359131",
     "status": "completed"
    },
    "tags": []
   },
   "outputs": [],
   "source": [
    "y_pred = model.predict(X_test_scaled)"
   ]
  },
  {
   "cell_type": "code",
   "execution_count": 15,
   "id": "6e9194a5",
   "metadata": {
    "execution": {
     "iopub.execute_input": "2022-10-11T18:58:37.549266Z",
     "iopub.status.busy": "2022-10-11T18:58:37.548096Z",
     "iopub.status.idle": "2022-10-11T18:58:37.554321Z",
     "shell.execute_reply": "2022-10-11T18:58:37.553714Z"
    },
    "papermill": {
     "duration": 0.026623,
     "end_time": "2022-10-11T18:58:37.555900",
     "exception": false,
     "start_time": "2022-10-11T18:58:37.529277",
     "status": "completed"
    },
    "tags": []
   },
   "outputs": [
    {
     "data": {
      "text/plain": [
       "0.8130166796848336"
      ]
     },
     "execution_count": 15,
     "metadata": {},
     "output_type": "execute_result"
    }
   ],
   "source": [
    "from sklearn.metrics import r2_score\n",
    "r2_score(y_test,y_pred)"
   ]
  },
  {
   "cell_type": "code",
   "execution_count": 16,
   "id": "d080ed71",
   "metadata": {
    "execution": {
     "iopub.execute_input": "2022-10-11T18:58:37.592031Z",
     "iopub.status.busy": "2022-10-11T18:58:37.590688Z",
     "iopub.status.idle": "2022-10-11T18:58:37.787755Z",
     "shell.execute_reply": "2022-10-11T18:58:37.786288Z"
    },
    "papermill": {
     "duration": 0.217317,
     "end_time": "2022-10-11T18:58:37.790111",
     "exception": false,
     "start_time": "2022-10-11T18:58:37.572794",
     "status": "completed"
    },
    "tags": []
   },
   "outputs": [
    {
     "data": {
      "text/plain": [
       "[<matplotlib.lines.Line2D at 0x7fbd242905d0>]"
      ]
     },
     "execution_count": 16,
     "metadata": {},
     "output_type": "execute_result"
    },
    {
     "data": {
      "image/png": "[encoded data removed]",
      "text/plain": [
       "<Figure size 432x288 with 1 Axes>"
      ]
     },
     "metadata": {
      "needs_background": "light"
     },
     "output_type": "display_data"
    }
   ],
   "source": [
    "import matplotlib.pyplot as plt\n",
    "plt.plot(history.history['loss'])\n",
    "plt.plot(history.history['val_loss'])"
   ]
  }
 ],
 "metadata": {
  "kernelspec": {
   "display_name": "Python 3",
   "language": "python",
   "name": "python3"
  },
  "language_info": {
   "codemirror_mode": {
    "name": "ipython",
    "version": 3
   },
   "file_extension": ".py",
   "mimetype": "text/x-python",
   "name": "python",
   "nbconvert_exporter": "python",
   "pygments_lexer": "ipython3",
   "version": "3.7.12"
  },
  "papermill": {
   "default_parameters": {},
   "duration": 29.123945,
   "end_time": "2022-10-11T18:58:41.207076",
   "environment_variables": {},
   "exception": null,
   "input_path": "__notebook__.ipynb",
   "output_path": "__notebook__.ipynb",
   "parameters": {},
   "start_time": "2022-10-11T18:58:12.083131",
   "version": "2.3.4"
  }
 },
 "nbformat": 4,
 "nbformat_minor": 5
}

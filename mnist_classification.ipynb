{
  "nbformat": 4,
  "nbformat_minor": 0,
  "metadata": {
    "colab": {
      "provenance": [],
      "authorship_tag": "ABX9TyNyM4wBKWjo/ilA2TOgByg3",
      "include_colab_link": true
    },
    "kernelspec": {
      "name": "python3",
      "display_name": "Python 3"
    },
    "language_info": {
      "name": "python"
    }
  },
  "cells": [
    {
      "cell_type": "markdown",
      "metadata": {
        "id": "view-in-github",
        "colab_type": "text"
      },
      "source": [
        "<a href=\"https://colab.research.google.com/github/Sumit1412/DeepLearning/blob/main/mnist_classification.ipynb\" target=\"_parent\"><img src=\"https://colab.research.google.com/assets/colab-badge.svg\" alt=\"Open In Colab\"/></a>"
      ]
    },
    {
      "cell_type": "code",
      "execution_count": 2,
      "metadata": {
        "id": "llCy1saXJGqk"
      },
      "outputs": [],
      "source": [
        "import tensorflow\n",
        "from tensorflow import keras\n",
        "from tensorflow.keras import Sequential\n",
        "from tensorflow.keras.layers import Dense, Flatten\n"
      ]
    },
    {
      "cell_type": "code",
      "source": [
        "(X_train,y_train),(X_test,y_test) = keras.datasets.mnist.load_data()"
      ],
      "metadata": {
        "colab": {
          "base_uri": "https://localhost:8080/"
        },
        "id": "VqDCqKRNJxbz",
        "outputId": "cb2fc5ff-717e-4186-9695-d4db22956017"
      },
      "execution_count": 3,
      "outputs": [
        {
          "output_type": "stream",
          "name": "stdout",
          "text": [
            "Downloading data from https://storage.googleapis.com/tensorflow/tf-keras-datasets/mnist.npz\n",
            "11493376/11490434 [==============================] - 0s 0us/step\n",
            "11501568/11490434 [==============================] - 0s 0us/step\n"
          ]
        }
      ]
    },
    {
      "cell_type": "code",
      "source": [
        "X_train = X_train/255\n",
        "X_test = X_test/255"
      ],
      "metadata": {
        "id": "MNUxB2x4KAVy"
      },
      "execution_count": 7,
      "outputs": []
    },
    {
      "cell_type": "code",
      "source": [
        "model = Sequential()\n",
        "model.add(Flatten(input_shape = (28,28)))\n",
        "model.add(Dense(128,activation = 'relu'))\n",
        "model.add(Dense(32,activation = 'relu'))\n",
        "model.add(Dense(10,activation = 'softmax'))"
      ],
      "metadata": {
        "id": "opgfBpxILqi7"
      },
      "execution_count": 24,
      "outputs": []
    },
    {
      "cell_type": "code",
      "source": [
        "model.summary()"
      ],
      "metadata": {
        "colab": {
          "base_uri": "https://localhost:8080/"
        },
        "id": "BE1ZmUk0MbFA",
        "outputId": "2af9a551-5294-4392-c659-336bc8a0cdeb"
      },
      "execution_count": 25,
      "outputs": [
        {
          "output_type": "stream",
          "name": "stdout",
          "text": [
            "Model: \"sequential_3\"\n",
            "_________________________________________________________________\n",
            " Layer (type)                Output Shape              Param #   \n",
            "=================================================================\n",
            " flatten_3 (Flatten)         (None, 784)               0         \n",
            "                                                                 \n",
            " dense_8 (Dense)             (None, 128)               100480    \n",
            "                                                                 \n",
            " dense_9 (Dense)             (None, 32)                4128      \n",
            "                                                                 \n",
            " dense_10 (Dense)            (None, 10)                330       \n",
            "                                                                 \n",
            "=================================================================\n",
            "Total params: 104,938\n",
            "Trainable params: 104,938\n",
            "Non-trainable params: 0\n",
            "_________________________________________________________________\n"
          ]
        }
      ]
    },
    {
      "cell_type": "code",
      "source": [
        "model.compile(loss = 'sparse_categorical_crossentropy',optimizer = 'Adam',metrics = 'accuracy')"
      ],
      "metadata": {
        "id": "L_h2Ap7CM1H1"
      },
      "execution_count": 26,
      "outputs": []
    },
    {
      "cell_type": "code",
      "source": [
        "history = model.fit(X_train,y_train,epochs = 25, validation_split=0.2)"
      ],
      "metadata": {
        "colab": {
          "base_uri": "https://localhost:8080/"
        },
        "id": "56q1Ain8NdPK",
        "outputId": "885f2237-a602-4dbd-da55-4fa2d3515cac"
      },
      "execution_count": 27,
      "outputs": [
        {
          "output_type": "stream",
          "name": "stdout",
          "text": [
            "Epoch 1/25\n",
            "1500/1500 [==============================] - 5s 3ms/step - loss: 0.2924 - accuracy: 0.9123 - val_loss: 0.1441 - val_accuracy: 0.9576\n",
            "Epoch 2/25\n",
            "1500/1500 [==============================] - 5s 3ms/step - loss: 0.1193 - accuracy: 0.9637 - val_loss: 0.1086 - val_accuracy: 0.9659\n",
            "Epoch 3/25\n",
            "1500/1500 [==============================] - 4s 3ms/step - loss: 0.0808 - accuracy: 0.9750 - val_loss: 0.0942 - val_accuracy: 0.9714\n",
            "Epoch 4/25\n",
            "1500/1500 [==============================] - 5s 3ms/step - loss: 0.0587 - accuracy: 0.9818 - val_loss: 0.1004 - val_accuracy: 0.9713\n",
            "Epoch 5/25\n",
            "1500/1500 [==============================] - 5s 3ms/step - loss: 0.0468 - accuracy: 0.9852 - val_loss: 0.0874 - val_accuracy: 0.9752\n",
            "Epoch 6/25\n",
            "1500/1500 [==============================] - 4s 3ms/step - loss: 0.0369 - accuracy: 0.9879 - val_loss: 0.0886 - val_accuracy: 0.9758\n",
            "Epoch 7/25\n",
            "1500/1500 [==============================] - 4s 3ms/step - loss: 0.0305 - accuracy: 0.9897 - val_loss: 0.1034 - val_accuracy: 0.9741\n",
            "Epoch 8/25\n",
            "1500/1500 [==============================] - 4s 3ms/step - loss: 0.0253 - accuracy: 0.9922 - val_loss: 0.0940 - val_accuracy: 0.9758\n",
            "Epoch 9/25\n",
            "1500/1500 [==============================] - 4s 3ms/step - loss: 0.0215 - accuracy: 0.9924 - val_loss: 0.1017 - val_accuracy: 0.9753\n",
            "Epoch 10/25\n",
            "1500/1500 [==============================] - 4s 3ms/step - loss: 0.0204 - accuracy: 0.9934 - val_loss: 0.1197 - val_accuracy: 0.9721\n",
            "Epoch 11/25\n",
            "1500/1500 [==============================] - 4s 3ms/step - loss: 0.0144 - accuracy: 0.9952 - val_loss: 0.1151 - val_accuracy: 0.9752\n",
            "Epoch 12/25\n",
            "1500/1500 [==============================] - 4s 3ms/step - loss: 0.0164 - accuracy: 0.9944 - val_loss: 0.1247 - val_accuracy: 0.9731\n",
            "Epoch 13/25\n",
            "1500/1500 [==============================] - 4s 3ms/step - loss: 0.0148 - accuracy: 0.9951 - val_loss: 0.1144 - val_accuracy: 0.9769\n",
            "Epoch 14/25\n",
            "1500/1500 [==============================] - 5s 3ms/step - loss: 0.0135 - accuracy: 0.9951 - val_loss: 0.1285 - val_accuracy: 0.9741\n",
            "Epoch 15/25\n",
            "1500/1500 [==============================] - 5s 4ms/step - loss: 0.0115 - accuracy: 0.9963 - val_loss: 0.1159 - val_accuracy: 0.9775\n",
            "Epoch 16/25\n",
            "1500/1500 [==============================] - 4s 3ms/step - loss: 0.0101 - accuracy: 0.9966 - val_loss: 0.1212 - val_accuracy: 0.9766\n",
            "Epoch 17/25\n",
            "1500/1500 [==============================] - 4s 3ms/step - loss: 0.0105 - accuracy: 0.9964 - val_loss: 0.1333 - val_accuracy: 0.9751\n",
            "Epoch 18/25\n",
            "1500/1500 [==============================] - 4s 3ms/step - loss: 0.0099 - accuracy: 0.9966 - val_loss: 0.1293 - val_accuracy: 0.9768\n",
            "Epoch 19/25\n",
            "1500/1500 [==============================] - 4s 3ms/step - loss: 0.0105 - accuracy: 0.9966 - val_loss: 0.1424 - val_accuracy: 0.9749\n",
            "Epoch 20/25\n",
            "1500/1500 [==============================] - 4s 3ms/step - loss: 0.0077 - accuracy: 0.9972 - val_loss: 0.1453 - val_accuracy: 0.9763\n",
            "Epoch 21/25\n",
            "1500/1500 [==============================] - 4s 3ms/step - loss: 0.0095 - accuracy: 0.9969 - val_loss: 0.1713 - val_accuracy: 0.9724\n",
            "Epoch 22/25\n",
            "1500/1500 [==============================] - 4s 3ms/step - loss: 0.0081 - accuracy: 0.9973 - val_loss: 0.1441 - val_accuracy: 0.9768\n",
            "Epoch 23/25\n",
            "1500/1500 [==============================] - 4s 3ms/step - loss: 0.0088 - accuracy: 0.9971 - val_loss: 0.1611 - val_accuracy: 0.9758\n",
            "Epoch 24/25\n",
            "1500/1500 [==============================] - 4s 3ms/step - loss: 0.0070 - accuracy: 0.9978 - val_loss: 0.1670 - val_accuracy: 0.9755\n",
            "Epoch 25/25\n",
            "1500/1500 [==============================] - 4s 3ms/step - loss: 0.0093 - accuracy: 0.9971 - val_loss: 0.1655 - val_accuracy: 0.9766\n"
          ]
        }
      ]
    },
    {
      "cell_type": "code",
      "source": [
        "y_prob = model.predict(X_test)"
      ],
      "metadata": {
        "id": "0CJ9kN4ENf9M"
      },
      "execution_count": 28,
      "outputs": []
    },
    {
      "cell_type": "code",
      "source": [
        "y_pred = y_prob.argmax(axis = 1)"
      ],
      "metadata": {
        "id": "rVdH2wIzODta"
      },
      "execution_count": 29,
      "outputs": []
    },
    {
      "cell_type": "code",
      "source": [
        "from sklearn.metrics import accuracy_score\n",
        "accuracy_score(y_test,y_pred)"
      ],
      "metadata": {
        "colab": {
          "base_uri": "https://localhost:8080/"
        },
        "id": "XlzMeLU3OMGr",
        "outputId": "48a20f14-81c4-4b12-b469-1444f6eff56c"
      },
      "execution_count": 30,
      "outputs": [
        {
          "output_type": "execute_result",
          "data": {
            "text/plain": [
              "0.9769"
            ]
          },
          "metadata": {},
          "execution_count": 30
        }
      ]
    },
    {
      "cell_type": "code",
      "source": [
        "import matplotlib.pyplot as plt\n",
        "plt.plot(history.history['loss'])\n",
        "plt.plot(history.history['val_loss'])"
      ],
      "metadata": {
        "colab": {
          "base_uri": "https://localhost:8080/",
          "height": 282
        },
        "id": "i3R-Qd4WQEHd",
        "outputId": "25099dce-0e43-46d6-b6ff-b27bed85fc24"
      },
      "execution_count": 33,
      "outputs": [
        {
          "output_type": "execute_result",
          "data": {
            "text/plain": [
              "[<matplotlib.lines.Line2D at 0x7f0962ce2c50>]"
            ]
          },
          "metadata": {},
          "execution_count": 33
        },
        {
          "output_type": "display_data",
          "data": {
            "text/plain": [
              "<Figure size 432x288 with 1 Axes>"
            ],
            "image/png": "[encoded data removed]"
          },
          "metadata": {
            "needs_background": "light"
          }
        }
      ]
    },
    {
      "cell_type": "code",
      "source": [
        "plt.plot(history.history['accuracy'])\n",
        "plt.plot(history.history['val_accuracy'])"
      ],
      "metadata": {
        "colab": {
          "base_uri": "https://localhost:8080/",
          "height": 282
        },
        "id": "ICLyUtYiQZeD",
        "outputId": "27a565cb-c5ff-4b27-c08f-252b6e4874e3"
      },
      "execution_count": 34,
      "outputs": [
        {
          "output_type": "execute_result",
          "data": {
            "text/plain": [
              "[<matplotlib.lines.Line2D at 0x7f0962c5fa50>]"
            ]
          },
          "metadata": {},
          "execution_count": 34
        },
        {
          "output_type": "display_data",
          "data": {
            "text/plain": [
              "<Figure size 432x288 with 1 Axes>"
            ],
            "image/png": "[encoded data removed]"
          },
          "metadata": {
            "needs_background": "light"
          }
        }
      ]
    },
    {
      "cell_type": "code",
      "source": [
        "plt.imshow(X_test[1])"
      ],
      "metadata": {
        "colab": {
          "base_uri": "https://localhost:8080/",
          "height": 282
        },
        "id": "KZah2OA5Q0GB",
        "outputId": "6c2b4486-e29f-4f90-9496-c56bd963ff09"
      },
      "execution_count": 38,
      "outputs": [
        {
          "output_type": "execute_result",
          "data": {
            "text/plain": [
              "<matplotlib.image.AxesImage at 0x7f0961756a50>"
            ]
          },
          "metadata": {},
          "execution_count": 38
        },
        {
          "output_type": "display_data",
          "data": {
            "text/plain": [
              "<Figure size 432x288 with 1 Axes>"
            ],
            "image/png": "[encoded data removed]"
          },
          "metadata": {
            "needs_background": "light"
          }
        }
      ]
    },
    {
      "cell_type": "code",
      "source": [
        "model.predict(X_test[1].reshape(1,28,28)).argmax(axis =1)"
      ],
      "metadata": {
        "colab": {
          "base_uri": "https://localhost:8080/"
        },
        "id": "a7XbaBFaQ5Y0",
        "outputId": "80a9ef0c-af6c-4dab-9416-f6ed7cf6caed"
      },
      "execution_count": 39,
      "outputs": [
        {
          "output_type": "execute_result",
          "data": {
            "text/plain": [
              "array([2])"
            ]
          },
          "metadata": {},
          "execution_count": 39
        }
      ]
    }
  ]
}